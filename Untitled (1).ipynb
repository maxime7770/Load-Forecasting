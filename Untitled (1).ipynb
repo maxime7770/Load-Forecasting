{
 "cells": [
  {
   "cell_type": "code",
   "execution_count": 1,
   "metadata": {},
   "outputs": [],
   "source": [
    "import pandas as pd\n",
    "import numpy as np\n",
    "import matplotlib.pyplot as plt\n",
    "from arch import arch_model\n",
    "import scipy.stats as st\n",
    "import statsmodels.api as sm\n",
    "from statsmodels.tsa.arima_model import ARMA\n",
    "from statsmodels.stats.diagnostic import acorr_ljungbox"
   ]
  },
  {
   "cell_type": "code",
   "execution_count": 7,
   "metadata": {},
   "outputs": [],
   "source": [
    "region='bretagne'\n",
    "data = pd.read_csv('data centrale/train/{}.csv'.format(region),header=0, index_col=0, parse_dates=True, squeeze=True)\n",
    "df=data[\"Consommation\"]"
   ]
  },
  {
   "cell_type": "code",
   "execution_count": 8,
   "metadata": {},
   "outputs": [
    {
     "data": {
      "image/png": "[encoded data removed]",
      "text/plain": [
       "<Figure size 432x288 with 1 Axes>"
      ]
     },
     "metadata": {
      "needs_background": "light"
     },
     "output_type": "display_data"
    }
   ],
   "source": [
    "# The autocorrelation function of the volatility is long range.\n",
    "sm.graphics.tsa.plot_acf( df**2 ,lags=100, zero=False)\n",
    "plt.show()"
   ]
  },
  {
   "cell_type": "code",
   "execution_count": 27,
   "metadata": {},
   "outputs": [
    {
     "name": "stderr",
     "output_type": "stream",
     "text": [
      "/Users/enguerrandvoisine/opt/anaconda3/lib/python3.8/site-packages/arch/univariate/base.py:316: DataScaleWarning: y is poorly scaled, which may affect convergence of the optimizer when\n",
      "estimating the model parameters. The scale of y is 4.537e+05. Parameter\n",
      "estimation work better when this value is between 1 and 1000. The recommended\n",
      "rescaling is 0.1 * y.\n",
      "\n",
      "This warning can be disabled by either rescaling y before initializing the\n",
      "model or by setting rescale=False.\n",
      "\n",
      "  warnings.warn(\n",
      "/Users/enguerrandvoisine/opt/anaconda3/lib/python3.8/site-packages/arch/univariate/base.py:316: DataScaleWarning: y is poorly scaled, which may affect convergence of the optimizer when\n",
      "estimating the model parameters. The scale of y is 4.537e+05. Parameter\n",
      "estimation work better when this value is between 1 and 1000. The recommended\n",
      "rescaling is 0.1 * y.\n",
      "\n",
      "This warning can be disabled by either rescaling y before initializing the\n",
      "model or by setting rescale=False.\n",
      "\n",
      "  warnings.warn(\n"
     ]
    },
    {
     "name": "stdout",
     "output_type": "stream",
     "text": [
      "Iteration:      1,   Func. Count:      5,   Neg. LLF: 346050.0403725845\n",
      "Iteration:      2,   Func. Count:     10,   Neg. LLF: 289158.8141455172\n",
      "Iteration:      3,   Func. Count:     16,   Neg. LLF: 230348.23596983994\n",
      "Iteration:      4,   Func. Count:     20,   Neg. LLF: 230347.8292696813\n",
      "Iteration:      5,   Func. Count:     24,   Neg. LLF: 230347.82622153038\n",
      "Iteration:      6,   Func. Count:     28,   Neg. LLF: 230347.8056357174\n",
      "Iteration:      7,   Func. Count:     32,   Neg. LLF: 230347.64829323522\n",
      "Iteration:      8,   Func. Count:     36,   Neg. LLF: 230347.38453999063\n",
      "Iteration:      9,   Func. Count:     40,   Neg. LLF: 230346.66502612998\n",
      "Iteration:     10,   Func. Count:     44,   Neg. LLF: 230342.52336468216\n",
      "Iteration:     11,   Func. Count:     48,   Neg. LLF: 230328.41837854878\n",
      "Iteration:     12,   Func. Count:     52,   Neg. LLF: 230312.21878825247\n",
      "Iteration:     13,   Func. Count:     56,   Neg. LLF: 230174.12285906562\n",
      "Iteration:     14,   Func. Count:     60,   Neg. LLF: 229438.32609739667\n",
      "Iteration:     15,   Func. Count:     64,   Neg. LLF: 1553499.053441623\n",
      "Iteration:     16,   Func. Count:     69,   Neg. LLF: 257258.44284274353\n",
      "Iteration:     17,   Func. Count:     74,   Neg. LLF: 1133495.1120823727\n",
      "Iteration:     18,   Func. Count:     79,   Neg. LLF: 1138973.6438704971\n",
      "Iteration:     19,   Func. Count:     84,   Neg. LLF: 859979.5277746273\n",
      "Iteration:     20,   Func. Count:     89,   Neg. LLF: 228627.08161487145\n",
      "Iteration:     21,   Func. Count:     93,   Neg. LLF: 228618.41292938066\n",
      "Iteration:     22,   Func. Count:     97,   Neg. LLF: 228610.34506765316\n",
      "Iteration:     23,   Func. Count:    101,   Neg. LLF: 228610.27287046995\n",
      "Iteration:     24,   Func. Count:    105,   Neg. LLF: 228610.26220324836\n",
      "Iteration:     25,   Func. Count:    109,   Neg. LLF: 228611.75495570299\n",
      "Iteration:     26,   Func. Count:    114,   Neg. LLF: 228610.25250890738\n",
      "Iteration:     27,   Func. Count:    118,   Neg. LLF: 228610.2421896554\n",
      "Iteration:     28,   Func. Count:    122,   Neg. LLF: 228610.23920189234\n",
      "Iteration:     29,   Func. Count:    126,   Neg. LLF: 228610.24364819512\n",
      "Iteration:     30,   Func. Count:    132,   Neg. LLF: 228610.23848768504\n",
      "Iteration:     31,   Func. Count:    136,   Neg. LLF: 228610.23950146034\n",
      "Optimization terminated successfully    (Exit mode 0)\n",
      "            Current function value: 228610.23848772253\n",
      "            Iterations: 31\n",
      "            Function evaluations: 146\n",
      "            Gradient evaluations: 31\n",
      "Iteration:      1,   Func. Count:      6,   Neg. LLF: 231569.25075515034\n",
      "Iteration:      2,   Func. Count:     11,   Neg. LLF: 6930511.763664607\n",
      "Iteration:      3,   Func. Count:     18,   Neg. LLF: 230499.1809245347\n",
      "Iteration:      4,   Func. Count:     24,   Neg. LLF: 230347.9553064123\n",
      "Iteration:      5,   Func. Count:     29,   Neg. LLF: 230347.82863151885\n",
      "Iteration:      6,   Func. Count:     34,   Neg. LLF: 230347.82858396406\n",
      "Iteration:      7,   Func. Count:     39,   Neg. LLF: 230347.8124728538\n",
      "Iteration:      8,   Func. Count:     44,   Neg. LLF: 230347.6846063896\n",
      "Iteration:      9,   Func. Count:     49,   Neg. LLF: 230346.94991196244\n",
      "Iteration:     10,   Func. Count:     54,   Neg. LLF: 230342.97103623947\n",
      "Iteration:     11,   Func. Count:     59,   Neg. LLF: 230327.56793985207\n",
      "Iteration:     12,   Func. Count:     64,   Neg. LLF: 230305.35100230633\n",
      "Iteration:     13,   Func. Count:     69,   Neg. LLF: 230223.30892959988\n",
      "Iteration:     14,   Func. Count:     74,   Neg. LLF: 230103.9246808448\n",
      "Iteration:     15,   Func. Count:     79,   Neg. LLF: 229650.02253376145\n",
      "Iteration:     16,   Func. Count:     84,   Neg. LLF: 266083.10995118885\n",
      "Iteration:     17,   Func. Count:     90,   Neg. LLF: 232705.20687175836\n",
      "Iteration:     18,   Func. Count:     97,   Neg. LLF: 242386.47995271295\n",
      "Iteration:     19,   Func. Count:    103,   Neg. LLF: 229391.57476585297\n",
      "Iteration:     20,   Func. Count:    109,   Neg. LLF: 239930.86146726343\n",
      "Iteration:     21,   Func. Count:    115,   Neg. LLF: 228671.93813074596\n",
      "Iteration:     22,   Func. Count:    120,   Neg. LLF: 228620.1458135541\n",
      "Iteration:     23,   Func. Count:    125,   Neg. LLF: 228580.64715079375\n",
      "Iteration:     24,   Func. Count:    130,   Neg. LLF: 228578.1642152494\n",
      "Iteration:     25,   Func. Count:    135,   Neg. LLF: 228573.681818977\n",
      "Iteration:     26,   Func. Count:    140,   Neg. LLF: 228573.4363198047\n",
      "Iteration:     27,   Func. Count:    146,   Neg. LLF: 228572.898188824\n",
      "Iteration:     28,   Func. Count:    151,   Neg. LLF: 228572.89724658878\n",
      "Iteration:     29,   Func. Count:    156,   Neg. LLF: 228775.04896279558\n",
      "Iteration:     30,   Func. Count:    171,   Neg. LLF: 228572.8972610737\n",
      "Iteration:     31,   Func. Count:    177,   Neg. LLF: 228572.8974258782\n",
      "Optimization terminated successfully    (Exit mode 0)\n",
      "            Current function value: 228572.89724510745\n",
      "            Iterations: 31\n",
      "            Function evaluations: 187\n",
      "            Gradient evaluations: 31\n",
      "Iteration:      1,   Func. Count:      7,   Neg. LLF: 231571.5836443068\n",
      "Iteration:      2,   Func. Count:     13,   Neg. LLF: 292002.68941298535\n",
      "Iteration:      3,   Func. Count:     21,   Neg. LLF: 230363.82983530982\n",
      "Iteration:      4,   Func. Count:     27,   Neg. LLF: 230349.52367614178\n",
      "Iteration:      5,   Func. Count:     33,   Neg. LLF: 230347.8499803375\n"
     ]
    },
    {
     "name": "stderr",
     "output_type": "stream",
     "text": [
      "/Users/enguerrandvoisine/opt/anaconda3/lib/python3.8/site-packages/arch/univariate/base.py:316: DataScaleWarning: y is poorly scaled, which may affect convergence of the optimizer when\n",
      "estimating the model parameters. The scale of y is 4.537e+05. Parameter\n",
      "estimation work better when this value is between 1 and 1000. The recommended\n",
      "rescaling is 0.1 * y.\n",
      "\n",
      "This warning can be disabled by either rescaling y before initializing the\n",
      "model or by setting rescale=False.\n",
      "\n",
      "  warnings.warn(\n"
     ]
    },
    {
     "name": "stdout",
     "output_type": "stream",
     "text": [
      "Iteration:      6,   Func. Count:     39,   Neg. LLF: 230347.82980455243\n",
      "Iteration:      7,   Func. Count:     45,   Neg. LLF: 230488.64463864831\n",
      "Iteration:      8,   Func. Count:     55,   Neg. LLF: 230347.82784871128\n",
      "Iteration:      9,   Func. Count:     61,   Neg. LLF: 230347.82141201763\n",
      "Iteration:     10,   Func. Count:     67,   Neg. LLF: 230347.74118258065\n",
      "Iteration:     11,   Func. Count:     73,   Neg. LLF: 230347.3539002693\n",
      "Iteration:     12,   Func. Count:     79,   Neg. LLF: 230345.53266449925\n",
      "Iteration:     13,   Func. Count:     85,   Neg. LLF: 230338.02791248923\n",
      "Iteration:     14,   Func. Count:     91,   Neg. LLF: 230324.45444829113\n",
      "Iteration:     15,   Func. Count:     97,   Neg. LLF: 230320.42509840964\n",
      "Iteration:     16,   Func. Count:    103,   Neg. LLF: 230299.5380480473\n",
      "Iteration:     17,   Func. Count:    109,   Neg. LLF: 230156.8048137605\n",
      "Iteration:     18,   Func. Count:    115,   Neg. LLF: 229573.51266104024\n",
      "Iteration:     19,   Func. Count:    121,   Neg. LLF: 248036.31827856053\n",
      "Iteration:     20,   Func. Count:    128,   Neg. LLF: 385275.1652061149\n",
      "Iteration:     21,   Func. Count:    136,   Neg. LLF: 241281.6017370608\n",
      "Iteration:     22,   Func. Count:    143,   Neg. LLF: 241587.9950270708\n",
      "Iteration:     23,   Func. Count:    150,   Neg. LLF: 251603.4054537307\n",
      "Iteration:     24,   Func. Count:    157,   Neg. LLF: 229174.27542718413\n",
      "Iteration:     25,   Func. Count:    164,   Neg. LLF: 228625.5683006933\n",
      "Iteration:     26,   Func. Count:    170,   Neg. LLF: 228586.14596709228\n",
      "Iteration:     27,   Func. Count:    176,   Neg. LLF: 228574.02126082595\n",
      "Iteration:     28,   Func. Count:    182,   Neg. LLF: 228573.0585619423\n",
      "Iteration:     29,   Func. Count:    188,   Neg. LLF: 228573.03278437408\n",
      "Iteration:     30,   Func. Count:    194,   Neg. LLF: 228572.9627193269\n",
      "Iteration:     31,   Func. Count:    200,   Neg. LLF: 228580.01739927448\n",
      "Iteration:     32,   Func. Count:    216,   Neg. LLF: 235512.118724783\n",
      "Iteration:     33,   Func. Count:    232,   Neg. LLF: 228572.9456226871\n",
      "Iteration:     34,   Func. Count:    238,   Neg. LLF: 228572.92282327186\n",
      "Iteration:     35,   Func. Count:    244,   Neg. LLF: 228572.92261361508\n",
      "Iteration:     36,   Func. Count:    251,   Neg. LLF: 228572.91197133332\n",
      "Iteration:     37,   Func. Count:    257,   Neg. LLF: 228572.9121807104\n",
      "Iteration:     38,   Func. Count:    263,   Neg. LLF: 228581.32218175373\n",
      "Optimization terminated successfully    (Exit mode 0)\n",
      "            Current function value: 228572.9121805523\n",
      "            Iterations: 40\n",
      "            Function evaluations: 267\n",
      "            Gradient evaluations: 38\n",
      "Iteration:      1,   Func. Count:      8,   Neg. LLF: 231574.5519038674\n",
      "Iteration:      2,   Func. Count:     15,   Neg. LLF: 285731.82628799195\n",
      "Iteration:      3,   Func. Count:     24,   Neg. LLF: 230347.9773988116\n",
      "Iteration:      4,   Func. Count:     31,   Neg. LLF: 230347.83882486034\n",
      "Iteration:      5,   Func. Count:     38,   Neg. LLF: 230347.8346161347\n",
      "Iteration:      6,   Func. Count:     45,   Neg. LLF: 230347.82822048038\n",
      "Iteration:      7,   Func. Count:     52,   Neg. LLF: 355908.83841276565\n",
      "Iteration:      8,   Func. Count:     63,   Neg. LLF: 230347.82555943585\n",
      "Iteration:      9,   Func. Count:     70,   Neg. LLF: 230347.8070503649\n",
      "Iteration:     10,   Func. Count:     77,   Neg. LLF: 230347.78015589897\n",
      "Iteration:     11,   Func. Count:     84,   Neg. LLF: 230347.45601908397\n",
      "Iteration:     12,   Func. Count:     91,   Neg. LLF: 230347.28286529868\n",
      "Iteration:     13,   Func. Count:     98,   Neg. LLF: 230346.82348046132\n",
      "Iteration:     14,   Func. Count:    105,   Neg. LLF: 230346.3988409766\n"
     ]
    },
    {
     "name": "stderr",
     "output_type": "stream",
     "text": [
      "/Users/enguerrandvoisine/opt/anaconda3/lib/python3.8/site-packages/arch/univariate/base.py:316: DataScaleWarning: y is poorly scaled, which may affect convergence of the optimizer when\n",
      "estimating the model parameters. The scale of y is 4.537e+05. Parameter\n",
      "estimation work better when this value is between 1 and 1000. The recommended\n",
      "rescaling is 0.1 * y.\n",
      "\n",
      "This warning can be disabled by either rescaling y before initializing the\n",
      "model or by setting rescale=False.\n",
      "\n",
      "  warnings.warn(\n"
     ]
    },
    {
     "name": "stdout",
     "output_type": "stream",
     "text": [
      "Iteration:     15,   Func. Count:    112,   Neg. LLF: 230345.24247227615\n",
      "Iteration:     16,   Func. Count:    119,   Neg. LLF: 230342.0033163309\n",
      "Iteration:     17,   Func. Count:    126,   Neg. LLF: 230337.35262921656\n",
      "Iteration:     18,   Func. Count:    133,   Neg. LLF: 230309.55525060504\n",
      "Iteration:     19,   Func. Count:    140,   Neg. LLF: 230158.00507608347\n",
      "Iteration:     20,   Func. Count:    147,   Neg. LLF: 229307.0573364338\n",
      "Iteration:     21,   Func. Count:    154,   Neg. LLF: 652340.5006018833\n",
      "Iteration:     22,   Func. Count:    162,   Neg. LLF: 240076.24203567434\n",
      "Iteration:     23,   Func. Count:    170,   Neg. LLF: 229004.7569316533\n",
      "Iteration:     24,   Func. Count:    178,   Neg. LLF: 287915.21630410553\n",
      "Iteration:     25,   Func. Count:    186,   Neg. LLF: 653414.8449106421\n",
      "Iteration:     26,   Func. Count:    194,   Neg. LLF: 243301.89193301223\n",
      "Iteration:     27,   Func. Count:    202,   Neg. LLF: 228588.47580922086\n",
      "Iteration:     28,   Func. Count:    209,   Neg. LLF: 228577.11027351132\n",
      "Iteration:     29,   Func. Count:    216,   Neg. LLF: 228573.25307524097\n",
      "Iteration:     30,   Func. Count:    223,   Neg. LLF: 228573.18717699428\n",
      "Iteration:     31,   Func. Count:    231,   Neg. LLF: 228573.28687936594\n",
      "Iteration:     32,   Func. Count:    240,   Neg. LLF: 228572.8958889701\n",
      "Iteration:     33,   Func. Count:    247,   Neg. LLF: 228580.8663817922\n",
      "Iteration:     34,   Func. Count:    264,   Neg. LLF: 228629.7893242606\n",
      "Iteration:     35,   Func. Count:    275,   Neg. LLF: 228572.8960545606\n",
      "Iteration:     36,   Func. Count:    282,   Neg. LLF: 228572.8960495042\n",
      "Iteration:     37,   Func. Count:    289,   Neg. LLF: 228627.90720184956\n",
      "Optimization terminated successfully    (Exit mode 0)\n",
      "            Current function value: 228572.8960492814\n",
      "            Iterations: 40\n",
      "            Function evaluations: 293\n",
      "            Gradient evaluations: 37\n",
      "Iteration:      1,   Func. Count:      9,   Neg. LLF: 231577.166008508\n",
      "Iteration:      2,   Func. Count:     17,   Neg. LLF: 282495.7209519149\n",
      "Iteration:      3,   Func. Count:     27,   Neg. LLF: 230355.4752859996\n",
      "Iteration:      4,   Func. Count:     35,   Neg. LLF: 230348.94005982418\n",
      "Iteration:      5,   Func. Count:     43,   Neg. LLF: 230347.8576684706\n",
      "Iteration:      6,   Func. Count:     51,   Neg. LLF: 230347.83932773344\n",
      "Iteration:      7,   Func. Count:     59,   Neg. LLF: 230347.83471089613\n",
      "Iteration:      8,   Func. Count:     67,   Neg. LLF: 230347.81328765914\n",
      "Iteration:      9,   Func. Count:     75,   Neg. LLF: 230347.73644891172\n",
      "Iteration:     10,   Func. Count:     83,   Neg. LLF: 230347.39857262402\n",
      "Iteration:     11,   Func. Count:     91,   Neg. LLF: 230346.7030364108\n",
      "Iteration:     12,   Func. Count:     99,   Neg. LLF: 230344.89248953742\n",
      "Iteration:     13,   Func. Count:    107,   Neg. LLF: 230337.983766168\n",
      "Iteration:     14,   Func. Count:    115,   Neg. LLF: 230318.99407306983\n",
      "Iteration:     15,   Func. Count:    123,   Neg. LLF: 230294.81890746808\n"
     ]
    },
    {
     "name": "stderr",
     "output_type": "stream",
     "text": [
      "/Users/enguerrandvoisine/opt/anaconda3/lib/python3.8/site-packages/arch/univariate/base.py:316: DataScaleWarning: y is poorly scaled, which may affect convergence of the optimizer when\n",
      "estimating the model parameters. The scale of y is 4.537e+05. Parameter\n",
      "estimation work better when this value is between 1 and 1000. The recommended\n",
      "rescaling is 0.1 * y.\n",
      "\n",
      "This warning can be disabled by either rescaling y before initializing the\n",
      "model or by setting rescale=False.\n",
      "\n",
      "  warnings.warn(\n"
     ]
    },
    {
     "name": "stdout",
     "output_type": "stream",
     "text": [
      "Iteration:     16,   Func. Count:    131,   Neg. LLF: 230131.2795267049\n",
      "Iteration:     17,   Func. Count:    139,   Neg. LLF: 229258.49514783232\n",
      "Iteration:     18,   Func. Count:    147,   Neg. LLF: 228691.17283957504\n",
      "Iteration:     19,   Func. Count:    155,   Neg. LLF: 252240.186193861\n",
      "Iteration:     20,   Func. Count:    164,   Neg. LLF: 228907.61223111156\n",
      "Iteration:     21,   Func. Count:    173,   Neg. LLF: 228810.5413147812\n",
      "Iteration:     22,   Func. Count:    182,   Neg. LLF: 228573.44274128758\n",
      "Iteration:     23,   Func. Count:    190,   Neg. LLF: 228573.2555397461\n",
      "Iteration:     24,   Func. Count:    198,   Neg. LLF: 229892.22136543505\n",
      "Iteration:     25,   Func. Count:    209,   Neg. LLF: 228573.1527036719\n",
      "Iteration:     26,   Func. Count:    217,   Neg. LLF: 232850.57340027025\n",
      "Iteration:     27,   Func. Count:    228,   Neg. LLF: 228572.90881715348\n",
      "Iteration:     28,   Func. Count:    236,   Neg. LLF: 228572.9072632386\n",
      "Iteration:     29,   Func. Count:    244,   Neg. LLF: 232850.5640345671\n",
      "Iteration:     30,   Func. Count:    255,   Neg. LLF: 228572.90694305184\n",
      "Optimization terminated successfully    (Exit mode 0)\n",
      "            Current function value: 228572.90691560588\n",
      "            Iterations: 34\n",
      "            Function evaluations: 255\n",
      "            Gradient evaluations: 30\n",
      "Iteration:      1,   Func. Count:     10,   Neg. LLF: 231579.06082388567\n"
     ]
    },
    {
     "name": "stderr",
     "output_type": "stream",
     "text": [
      "/Users/enguerrandvoisine/opt/anaconda3/lib/python3.8/site-packages/arch/univariate/base.py:316: DataScaleWarning: y is poorly scaled, which may affect convergence of the optimizer when\n",
      "estimating the model parameters. The scale of y is 4.537e+05. Parameter\n",
      "estimation work better when this value is between 1 and 1000. The recommended\n",
      "rescaling is 0.1 * y.\n",
      "\n",
      "This warning can be disabled by either rescaling y before initializing the\n",
      "model or by setting rescale=False.\n",
      "\n",
      "  warnings.warn(\n"
     ]
    },
    {
     "name": "stdout",
     "output_type": "stream",
     "text": [
      "Iteration:      2,   Func. Count:     19,   Neg. LLF: 280219.4919162901\n",
      "Iteration:      3,   Func. Count:     30,   Neg. LLF: 230370.11215975776\n",
      "Iteration:      4,   Func. Count:     39,   Neg. LLF: 230350.53166505657\n",
      "Iteration:      5,   Func. Count:     48,   Neg. LLF: 230347.87781686115\n",
      "Iteration:      6,   Func. Count:     57,   Neg. LLF: 230347.84915604218\n",
      "Iteration:      7,   Func. Count:     66,   Neg. LLF: 355999.8489398997\n",
      "Iteration:      8,   Func. Count:     78,   Neg. LLF: 230347.8346766929\n",
      "Iteration:      9,   Func. Count:     87,   Neg. LLF: 230347.82024642677\n",
      "Iteration:     10,   Func. Count:     96,   Neg. LLF: 355998.82411489624\n",
      "Iteration:     11,   Func. Count:    109,   Neg. LLF: 230347.8174073851\n",
      "Iteration:     12,   Func. Count:    118,   Neg. LLF: 230347.8035521796\n",
      "Iteration:     13,   Func. Count:    127,   Neg. LLF: 230347.72483126505\n",
      "Iteration:     14,   Func. Count:    136,   Neg. LLF: 355980.98642634705\n",
      "Iteration:     15,   Func. Count:    148,   Neg. LLF: 230347.72482394418\n",
      "Optimization terminated successfully    (Exit mode 0)\n",
      "            Current function value: 230347.7247419767\n",
      "            Iterations: 19\n",
      "            Function evaluations: 148\n",
      "            Gradient evaluations: 15\n"
     ]
    },
    {
     "name": "stderr",
     "output_type": "stream",
     "text": [
      "/Users/enguerrandvoisine/opt/anaconda3/lib/python3.8/site-packages/arch/univariate/base.py:316: DataScaleWarning: y is poorly scaled, which may affect convergence of the optimizer when\n",
      "estimating the model parameters. The scale of y is 4.537e+05. Parameter\n",
      "estimation work better when this value is between 1 and 1000. The recommended\n",
      "rescaling is 0.1 * y.\n",
      "\n",
      "This warning can be disabled by either rescaling y before initializing the\n",
      "model or by setting rescale=False.\n",
      "\n",
      "  warnings.warn(\n"
     ]
    },
    {
     "name": "stdout",
     "output_type": "stream",
     "text": [
      "Iteration:      1,   Func. Count:     11,   Neg. LLF: 231579.59600480384\n",
      "Iteration:      2,   Func. Count:     21,   Neg. LLF: 279095.9546082715\n",
      "Iteration:      3,   Func. Count:     33,   Neg. LLF: 230381.5719799953\n",
      "Iteration:      4,   Func. Count:     43,   Neg. LLF: 230357.08555577236\n",
      "Iteration:      5,   Func. Count:     53,   Neg. LLF: 230348.1040848692\n",
      "Iteration:      6,   Func. Count:     63,   Neg. LLF: 355848.4497138296\n",
      "Iteration:      7,   Func. Count:     75,   Neg. LLF: 230347.8401624853\n",
      "Iteration:      8,   Func. Count:     85,   Neg. LLF: 232222.52529856114\n",
      "Iteration:      9,   Func. Count:     99,   Neg. LLF: 230347.83809865743\n",
      "Iteration:     10,   Func. Count:    109,   Neg. LLF: 356005.78569361975\n",
      "Iteration:     11,   Func. Count:    123,   Neg. LLF: 230347.83681722032\n",
      "Iteration:     12,   Func. Count:    133,   Neg. LLF: 354461.0704232858\n",
      "Iteration:     13,   Func. Count:    145,   Neg. LLF: 230347.83634668804\n",
      "Optimization terminated successfully    (Exit mode 0)\n",
      "            Current function value: 230347.8362527699\n",
      "            Iterations: 17\n",
      "            Function evaluations: 145\n",
      "            Gradient evaluations: 13\n",
      "Iteration:      1,   Func. Count:     12,   Neg. LLF: 231579.49683141272\n",
      "Iteration:      2,   Func. Count:     23,   Neg. LLF: 278624.34741140605\n",
      "Iteration:      3,   Func. Count:     36,   Neg. LLF: 230395.15789717593\n",
      "Iteration:      4,   Func. Count:     47,   Neg. LLF: 230356.1639793907\n",
      "Iteration:      5,   Func. Count:     58,   Neg. LLF: 230356.55675126496\n",
      "Iteration:      6,   Func. Count:     70,   Neg. LLF: 230488.65540384286\n",
      "Iteration:      7,   Func. Count:     82,   Neg. LLF: 230347.85823398372\n",
      "Iteration:      8,   Func. Count:     93,   Neg. LLF: 230347.8381516217\n",
      "Iteration:      9,   Func. Count:    104,   Neg. LLF: 230347.83323090296\n",
      "Iteration:     10,   Func. Count:    115,   Neg. LLF: 230347.80783960174\n"
     ]
    },
    {
     "name": "stderr",
     "output_type": "stream",
     "text": [
      "/Users/enguerrandvoisine/opt/anaconda3/lib/python3.8/site-packages/arch/univariate/base.py:316: DataScaleWarning: y is poorly scaled, which may affect convergence of the optimizer when\n",
      "estimating the model parameters. The scale of y is 4.537e+05. Parameter\n",
      "estimation work better when this value is between 1 and 1000. The recommended\n",
      "rescaling is 0.1 * y.\n",
      "\n",
      "This warning can be disabled by either rescaling y before initializing the\n",
      "model or by setting rescale=False.\n",
      "\n",
      "  warnings.warn(\n"
     ]
    },
    {
     "name": "stdout",
     "output_type": "stream",
     "text": [
      "Iteration:     11,   Func. Count:    126,   Neg. LLF: 230347.66765048666\n",
      "Iteration:     12,   Func. Count:    137,   Neg. LLF: 230490.66170386577\n",
      "Iteration:     13,   Func. Count:    150,   Neg. LLF: 230347.66233605836\n",
      "Optimization terminated successfully    (Exit mode 0)\n",
      "            Current function value: 230347.6622257299\n",
      "            Iterations: 17\n",
      "            Function evaluations: 150\n",
      "            Gradient evaluations: 13\n",
      "Iteration:      1,   Func. Count:     13,   Neg. LLF: 231579.9018778369\n",
      "Iteration:      2,   Func. Count:     25,   Neg. LLF: 278504.14493923093\n",
      "Iteration:      3,   Func. Count:     39,   Neg. LLF: 230407.4720349853\n",
      "Iteration:      4,   Func. Count:     51,   Neg. LLF: 230375.82695310813\n",
      "Iteration:      5,   Func. Count:     63,   Neg. LLF: 230493.490187625\n"
     ]
    },
    {
     "name": "stderr",
     "output_type": "stream",
     "text": [
      "/Users/enguerrandvoisine/opt/anaconda3/lib/python3.8/site-packages/arch/univariate/base.py:316: DataScaleWarning: y is poorly scaled, which may affect convergence of the optimizer when\n",
      "estimating the model parameters. The scale of y is 4.537e+05. Parameter\n",
      "estimation work better when this value is between 1 and 1000. The recommended\n",
      "rescaling is 0.1 * y.\n",
      "\n",
      "This warning can be disabled by either rescaling y before initializing the\n",
      "model or by setting rescale=False.\n",
      "\n",
      "  warnings.warn(\n"
     ]
    },
    {
     "name": "stdout",
     "output_type": "stream",
     "text": [
      "Iteration:      6,   Func. Count:     76,   Neg. LLF: 230347.87382811855\n",
      "Iteration:      7,   Func. Count:     88,   Neg. LLF: 355674.62184194766\n",
      "Iteration:      8,   Func. Count:    103,   Neg. LLF: 230347.85469679942\n",
      "Iteration:      9,   Func. Count:    115,   Neg. LLF: 230347.8509619596\n",
      "Iteration:     10,   Func. Count:    127,   Neg. LLF: 348302.20780780335\n",
      "Iteration:     11,   Func. Count:    143,   Neg. LLF: 350767.6259172963\n",
      "Iteration:     12,   Func. Count:    158,   Neg. LLF: 230347.85008457783\n",
      "Optimization terminated successfully    (Exit mode 0)\n",
      "            Current function value: 230347.8499564203\n",
      "            Iterations: 16\n",
      "            Function evaluations: 158\n",
      "            Gradient evaluations: 12\n"
     ]
    },
    {
     "name": "stderr",
     "output_type": "stream",
     "text": [
      "/Users/enguerrandvoisine/opt/anaconda3/lib/python3.8/site-packages/arch/univariate/base.py:316: DataScaleWarning: y is poorly scaled, which may affect convergence of the optimizer when\n",
      "estimating the model parameters. The scale of y is 4.537e+05. Parameter\n",
      "estimation work better when this value is between 1 and 1000. The recommended\n",
      "rescaling is 0.1 * y.\n",
      "\n",
      "This warning can be disabled by either rescaling y before initializing the\n",
      "model or by setting rescale=False.\n",
      "\n",
      "  warnings.warn(\n"
     ]
    },
    {
     "name": "stdout",
     "output_type": "stream",
     "text": [
      "Iteration:      1,   Func. Count:     14,   Neg. LLF: 231577.97348976228\n",
      "Iteration:      2,   Func. Count:     27,   Neg. LLF: 278688.4449162464\n",
      "Iteration:      3,   Func. Count:     42,   Neg. LLF: 230410.37640756537\n",
      "Iteration:      4,   Func. Count:     55,   Neg. LLF: 230349.38197938958\n",
      "Iteration:      5,   Func. Count:     68,   Neg. LLF: 230347.85508188698\n",
      "Iteration:      6,   Func. Count:     81,   Neg. LLF: 230376.5872516013\n",
      "Iteration:      7,   Func. Count:     96,   Neg. LLF: 230348.79210594\n",
      "Optimization terminated successfully    (Exit mode 0)\n",
      "            Current function value: 230347.84305555193\n",
      "            Iterations: 7\n",
      "            Function evaluations: 99\n",
      "            Gradient evaluations: 7\n"
     ]
    },
    {
     "name": "stderr",
     "output_type": "stream",
     "text": [
      "/Users/enguerrandvoisine/opt/anaconda3/lib/python3.8/site-packages/arch/univariate/base.py:316: DataScaleWarning: y is poorly scaled, which may affect convergence of the optimizer when\n",
      "estimating the model parameters. The scale of y is 4.537e+05. Parameter\n",
      "estimation work better when this value is between 1 and 1000. The recommended\n",
      "rescaling is 0.1 * y.\n",
      "\n",
      "This warning can be disabled by either rescaling y before initializing the\n",
      "model or by setting rescale=False.\n",
      "\n",
      "  warnings.warn(\n"
     ]
    },
    {
     "name": "stdout",
     "output_type": "stream",
     "text": [
      "Iteration:      1,   Func. Count:     15,   Neg. LLF: 231581.35665301923\n",
      "Iteration:      2,   Func. Count:     29,   Neg. LLF: 279117.7056881412\n",
      "Iteration:      3,   Func. Count:     45,   Neg. LLF: 230484.5816788545\n",
      "Iteration:      4,   Func. Count:     59,   Neg. LLF: 230348.8699431197\n",
      "Iteration:      5,   Func. Count:     73,   Neg. LLF: 230367.5997483083\n",
      "Iteration:      6,   Func. Count:     88,   Neg. LLF: 354899.55202995584\n",
      "Iteration:      7,   Func. Count:    105,   Neg. LLF: 230347.84870873194\n",
      "Iteration:      8,   Func. Count:    120,   Neg. LLF: 353167.53362970776\n",
      "Iteration:      9,   Func. Count:    139,   Neg. LLF: 230347.86501298676\n",
      "Iteration:     10,   Func. Count:    154,   Neg. LLF: 230347.93408916\n",
      "Iteration:     11,   Func. Count:    169,   Neg. LLF: 230347.8425476065\n",
      "Iteration:     12,   Func. Count:    184,   Neg. LLF: 356005.6428300328\n",
      "Iteration:     13,   Func. Count:    201,   Neg. LLF: 230347.95015072904\n",
      "Iteration:     14,   Func. Count:    216,   Neg. LLF: 230347.838225295\n",
      "Iteration:     15,   Func. Count:    229,   Neg. LLF: 230347.83837158218\n",
      "Optimization terminated successfully    (Exit mode 0)\n",
      "            Current function value: 230347.838225295\n",
      "            Iterations: 19\n",
      "            Function evaluations: 229\n",
      "            Gradient evaluations: 15\n",
      "Iteration:      1,   Func. Count:     16,   Neg. LLF: 231576.4032804406\n"
     ]
    },
    {
     "name": "stderr",
     "output_type": "stream",
     "text": [
      "/Users/enguerrandvoisine/opt/anaconda3/lib/python3.8/site-packages/arch/univariate/base.py:316: DataScaleWarning: y is poorly scaled, which may affect convergence of the optimizer when\n",
      "estimating the model parameters. The scale of y is 4.537e+05. Parameter\n",
      "estimation work better when this value is between 1 and 1000. The recommended\n",
      "rescaling is 0.1 * y.\n",
      "\n",
      "This warning can be disabled by either rescaling y before initializing the\n",
      "model or by setting rescale=False.\n",
      "\n",
      "  warnings.warn(\n"
     ]
    },
    {
     "name": "stdout",
     "output_type": "stream",
     "text": [
      "Iteration:      2,   Func. Count:     31,   Neg. LLF: 279355.44685694505\n",
      "Iteration:      3,   Func. Count:     48,   Neg. LLF: 341472.99413672707\n",
      "Iteration:      4,   Func. Count:     64,   Neg. LLF: 230387.99218660453\n",
      "Iteration:      5,   Func. Count:     80,   Neg. LLF: 230347.91687231103\n",
      "Iteration:      6,   Func. Count:     94,   Neg. LLF: 230347.91702052648\n",
      "Optimization terminated successfully    (Exit mode 0)\n",
      "            Current function value: 230347.91687231103\n",
      "            Iterations: 10\n",
      "            Function evaluations: 94\n",
      "            Gradient evaluations: 6\n"
     ]
    },
    {
     "name": "stderr",
     "output_type": "stream",
     "text": [
      "/Users/enguerrandvoisine/opt/anaconda3/lib/python3.8/site-packages/arch/univariate/base.py:316: DataScaleWarning: y is poorly scaled, which may affect convergence of the optimizer when\n",
      "estimating the model parameters. The scale of y is 4.537e+05. Parameter\n",
      "estimation work better when this value is between 1 and 1000. The recommended\n",
      "rescaling is 0.1 * y.\n",
      "\n",
      "This warning can be disabled by either rescaling y before initializing the\n",
      "model or by setting rescale=False.\n",
      "\n",
      "  warnings.warn(\n"
     ]
    },
    {
     "name": "stdout",
     "output_type": "stream",
     "text": [
      "Iteration:      1,   Func. Count:     17,   Neg. LLF: 231584.26708135448\n",
      "Iteration:      2,   Func. Count:     33,   Neg. LLF: 279391.32668396307\n",
      "Iteration:      3,   Func. Count:     51,   Neg. LLF: 343751.9914437171\n",
      "Iteration:      4,   Func. Count:     68,   Neg. LLF: 230349.3911459727\n",
      "Iteration:      5,   Func. Count:     84,   Neg. LLF: 230349.39384183503\n",
      "Iteration:      6,   Func. Count:    100,   Neg. LLF: 230347.91437185963\n",
      "Optimization terminated successfully    (Exit mode 0)\n",
      "            Current function value: 230347.91422858808\n",
      "            Iterations: 10\n",
      "            Function evaluations: 100\n",
      "            Gradient evaluations: 6\n"
     ]
    },
    {
     "name": "stderr",
     "output_type": "stream",
     "text": [
      "/Users/enguerrandvoisine/opt/anaconda3/lib/python3.8/site-packages/arch/univariate/base.py:316: DataScaleWarning: y is poorly scaled, which may affect convergence of the optimizer when\n",
      "estimating the model parameters. The scale of y is 4.537e+05. Parameter\n",
      "estimation work better when this value is between 1 and 1000. The recommended\n",
      "rescaling is 0.1 * y.\n",
      "\n",
      "This warning can be disabled by either rescaling y before initializing the\n",
      "model or by setting rescale=False.\n",
      "\n",
      "  warnings.warn(\n"
     ]
    },
    {
     "name": "stdout",
     "output_type": "stream",
     "text": [
      "Iteration:      1,   Func. Count:     18,   Neg. LLF: 231576.29313073787\n",
      "Iteration:      2,   Func. Count:     35,   Neg. LLF: 278958.6017606635\n",
      "Iteration:      3,   Func. Count:     54,   Neg. LLF: 289537.2103746997\n",
      "Iteration:      4,   Func. Count:     72,   Neg. LLF: 230349.44919292687\n",
      "Iteration:      5,   Func. Count:     89,   Neg. LLF: 230488.828104996\n",
      "Iteration:      6,   Func. Count:    107,   Neg. LLF: 230348.0565059826\n",
      "Iteration:      7,   Func. Count:    124,   Neg. LLF: 355790.5373479143\n",
      "Iteration:      8,   Func. Count:    144,   Neg. LLF: 230543.46018109017\n",
      "Iteration:      9,   Func. Count:    164,   Neg. LLF: 230348.02536485618\n",
      "Optimization terminated successfully    (Exit mode 0)\n",
      "            Current function value: 230348.02521879488\n",
      "            Iterations: 13\n",
      "            Function evaluations: 164\n",
      "            Gradient evaluations: 9\n",
      "Iteration:      1,   Func. Count:     19,   Neg. LLF: 231576.0163224461\n"
     ]
    },
    {
     "name": "stderr",
     "output_type": "stream",
     "text": [
      "/Users/enguerrandvoisine/opt/anaconda3/lib/python3.8/site-packages/arch/univariate/base.py:316: DataScaleWarning: y is poorly scaled, which may affect convergence of the optimizer when\n",
      "estimating the model parameters. The scale of y is 4.537e+05. Parameter\n",
      "estimation work better when this value is between 1 and 1000. The recommended\n",
      "rescaling is 0.1 * y.\n",
      "\n",
      "This warning can be disabled by either rescaling y before initializing the\n",
      "model or by setting rescale=False.\n",
      "\n",
      "  warnings.warn(\n"
     ]
    },
    {
     "name": "stdout",
     "output_type": "stream",
     "text": [
      "Iteration:      2,   Func. Count:     37,   Neg. LLF: 283039.71576172503\n",
      "Iteration:      3,   Func. Count:     65,   Neg. LLF: 333778.12459069607\n",
      "Iteration:      4,   Func. Count:     93,   Neg. LLF: 441478.2483116208\n",
      "Iteration:      5,   Func. Count:    117,   Neg. LLF: 15044711.288809143\n",
      "Iteration:      6,   Func. Count:    142,   Neg. LLF: 605982654.1068087\n",
      "Iteration:      7,   Func. Count:    168,   Neg. LLF: 337601.82660142943\n",
      "Iteration:      8,   Func. Count:    187,   Neg. LLF: 230355.15515549868\n",
      "Iteration:      9,   Func. Count:    205,   Neg. LLF: 230488.81633549885\n",
      "Iteration:     10,   Func. Count:    223,   Neg. LLF: 230348.19608976998\n",
      "Optimization terminated successfully    (Exit mode 0)\n",
      "            Current function value: 230348.19594630547\n",
      "            Iterations: 14\n",
      "            Function evaluations: 223\n",
      "            Gradient evaluations: 10\n"
     ]
    },
    {
     "name": "stderr",
     "output_type": "stream",
     "text": [
      "/Users/enguerrandvoisine/opt/anaconda3/lib/python3.8/site-packages/arch/univariate/base.py:316: DataScaleWarning: y is poorly scaled, which may affect convergence of the optimizer when\n",
      "estimating the model parameters. The scale of y is 4.537e+05. Parameter\n",
      "estimation work better when this value is between 1 and 1000. The recommended\n",
      "rescaling is 0.1 * y.\n",
      "\n",
      "This warning can be disabled by either rescaling y before initializing the\n",
      "model or by setting rescale=False.\n",
      "\n",
      "  warnings.warn(\n"
     ]
    },
    {
     "name": "stdout",
     "output_type": "stream",
     "text": [
      "Iteration:      1,   Func. Count:     20,   Neg. LLF: 231601.36430871714\n",
      "Iteration:      2,   Func. Count:     39,   Neg. LLF: 277840.0575979085\n",
      "Iteration:      3,   Func. Count:     60,   Neg. LLF: 355764.04899045336\n",
      "Iteration:      4,   Func. Count:     80,   Neg. LLF: 320115.8977612056\n",
      "Iteration:      5,   Func. Count:    100,   Neg. LLF: 230488.64923406494\n",
      "Iteration:      6,   Func. Count:    120,   Neg. LLF: 230351.267465075\n",
      "Iteration:      7,   Func. Count:    139,   Neg. LLF: 230348.758495898\n",
      "Iteration:      8,   Func. Count:    158,   Neg. LLF: 230348.21250812063\n",
      "Iteration:      9,   Func. Count:    176,   Neg. LLF: 230348.21265884623\n",
      "Optimization terminated successfully    (Exit mode 0)\n",
      "            Current function value: 230348.21250812063\n",
      "            Iterations: 13\n",
      "            Function evaluations: 176\n",
      "            Gradient evaluations: 9\n"
     ]
    },
    {
     "name": "stderr",
     "output_type": "stream",
     "text": [
      "/Users/enguerrandvoisine/opt/anaconda3/lib/python3.8/site-packages/arch/univariate/base.py:316: DataScaleWarning: y is poorly scaled, which may affect convergence of the optimizer when\n",
      "estimating the model parameters. The scale of y is 4.537e+05. Parameter\n",
      "estimation work better when this value is between 1 and 1000. The recommended\n",
      "rescaling is 0.1 * y.\n",
      "\n",
      "This warning can be disabled by either rescaling y before initializing the\n",
      "model or by setting rescale=False.\n",
      "\n",
      "  warnings.warn(\n"
     ]
    },
    {
     "name": "stdout",
     "output_type": "stream",
     "text": [
      "Iteration:      1,   Func. Count:     21,   Neg. LLF: 231582.11923895904\n",
      "Iteration:      2,   Func. Count:     41,   Neg. LLF: 271273.30614738207\n",
      "Iteration:      3,   Func. Count:     62,   Neg. LLF: 277054.3393712634\n",
      "Iteration:      4,   Func. Count:     84,   Neg. LLF: 355686.3228303672\n",
      "Iteration:      5,   Func. Count:    104,   Neg. LLF: 230459.19186466318\n",
      "Optimization terminated successfully    (Exit mode 0)\n",
      "            Current function value: 230459.1917191096\n",
      "            Iterations: 9\n",
      "            Function evaluations: 104\n",
      "            Gradient evaluations: 5\n",
      "Iteration:      1,   Func. Count:     22,   Neg. LLF: 231586.65342635673\n",
      "Iteration:      2,   Func. Count:     43,   Neg. LLF: 346197.9703139594\n",
      "Iteration:      3,   Func. Count:     65,   Neg. LLF: 277046.27093208604\n"
     ]
    },
    {
     "name": "stderr",
     "output_type": "stream",
     "text": [
      "/Users/enguerrandvoisine/opt/anaconda3/lib/python3.8/site-packages/arch/univariate/base.py:316: DataScaleWarning: y is poorly scaled, which may affect convergence of the optimizer when\n",
      "estimating the model parameters. The scale of y is 4.537e+05. Parameter\n",
      "estimation work better when this value is between 1 and 1000. The recommended\n",
      "rescaling is 0.1 * y.\n",
      "\n",
      "This warning can be disabled by either rescaling y before initializing the\n",
      "model or by setting rescale=False.\n",
      "\n",
      "  warnings.warn(\n"
     ]
    },
    {
     "name": "stdout",
     "output_type": "stream",
     "text": [
      "Iteration:      4,   Func. Count:     88,   Neg. LLF: 230349.60624171153\n",
      "Iteration:      5,   Func. Count:    109,   Neg. LLF: 230488.58627537655\n",
      "Iteration:      6,   Func. Count:    130,   Neg. LLF: 230347.9772749786\n",
      "Optimization terminated successfully    (Exit mode 0)\n",
      "            Current function value: 230347.97712327284\n",
      "            Iterations: 10\n",
      "            Function evaluations: 130\n",
      "            Gradient evaluations: 6\n",
      "Iteration:      1,   Func. Count:     23,   Neg. LLF: 232604.8635808243\n"
     ]
    },
    {
     "name": "stderr",
     "output_type": "stream",
     "text": [
      "/Users/enguerrandvoisine/opt/anaconda3/lib/python3.8/site-packages/arch/univariate/base.py:316: DataScaleWarning: y is poorly scaled, which may affect convergence of the optimizer when\n",
      "estimating the model parameters. The scale of y is 4.537e+05. Parameter\n",
      "estimation work better when this value is between 1 and 1000. The recommended\n",
      "rescaling is 0.1 * y.\n",
      "\n",
      "This warning can be disabled by either rescaling y before initializing the\n",
      "model or by setting rescale=False.\n",
      "\n",
      "  warnings.warn(\n"
     ]
    },
    {
     "name": "stdout",
     "output_type": "stream",
     "text": [
      "Iteration:      2,   Func. Count:     45,   Neg. LLF: 265032.0317465499\n",
      "Iteration:      3,   Func. Count:     68,   Neg. LLF: 298593.0560964521\n",
      "Iteration:      4,   Func. Count:     91,   Neg. LLF: 236068.91023362227\n",
      "Iteration:      5,   Func. Count:    114,   Neg. LLF: 231483.3844884608\n",
      "Iteration:      6,   Func. Count:    136,   Neg. LLF: 231475.98112004416\n",
      "Iteration:      7,   Func. Count:    158,   Neg. LLF: 307614.35047019314\n",
      "Iteration:      8,   Func. Count:    182,   Neg. LLF: 231468.48554023486\n",
      "Iteration:      9,   Func. Count:    204,   Neg. LLF: 307604.66562167526\n",
      "Iteration:     10,   Func. Count:    227,   Neg. LLF: 231458.6240205189\n",
      "Optimization terminated successfully    (Exit mode 0)\n",
      "            Current function value: 231458.62389708805\n",
      "            Iterations: 14\n",
      "            Function evaluations: 227\n",
      "            Gradient evaluations: 10\n"
     ]
    },
    {
     "name": "stderr",
     "output_type": "stream",
     "text": [
      "/Users/enguerrandvoisine/opt/anaconda3/lib/python3.8/site-packages/arch/univariate/base.py:316: DataScaleWarning: y is poorly scaled, which may affect convergence of the optimizer when\n",
      "estimating the model parameters. The scale of y is 4.537e+05. Parameter\n",
      "estimation work better when this value is between 1 and 1000. The recommended\n",
      "rescaling is 0.1 * y.\n",
      "\n",
      "This warning can be disabled by either rescaling y before initializing the\n",
      "model or by setting rescale=False.\n",
      "\n",
      "  warnings.warn(\n"
     ]
    },
    {
     "name": "stdout",
     "output_type": "stream",
     "text": [
      "Iteration:      1,   Func. Count:     24,   Neg. LLF: 232606.4244471212\n",
      "Iteration:      2,   Func. Count:     47,   Neg. LLF: 264366.9941767272\n",
      "Iteration:      3,   Func. Count:     71,   Neg. LLF: 307140.9747152903\n",
      "Iteration:      4,   Func. Count:     95,   Neg. LLF: 231539.88788933156\n",
      "Iteration:      5,   Func. Count:    118,   Neg. LLF: 231576.83288144215\n",
      "Iteration:      6,   Func. Count:    142,   Neg. LLF: 231529.6515263756\n",
      "Iteration:      7,   Func. Count:    165,   Neg. LLF: 231726.20227007935\n",
      "Iteration:      8,   Func. Count:    189,   Neg. LLF: 307548.64211998135\n",
      "Iteration:      9,   Func. Count:    214,   Neg. LLF: 231478.895698455\n",
      "Iteration:     10,   Func. Count:    237,   Neg. LLF: 232164.46262677465\n",
      "Iteration:     11,   Func. Count:    261,   Neg. LLF: 231478.85753469644\n",
      "Optimization terminated successfully    (Exit mode 0)\n",
      "            Current function value: 231478.8574153158\n",
      "            Iterations: 15\n",
      "            Function evaluations: 261\n",
      "            Gradient evaluations: 11\n"
     ]
    },
    {
     "name": "stderr",
     "output_type": "stream",
     "text": [
      "/Users/enguerrandvoisine/opt/anaconda3/lib/python3.8/site-packages/arch/univariate/base.py:316: DataScaleWarning: y is poorly scaled, which may affect convergence of the optimizer when\n",
      "estimating the model parameters. The scale of y is 4.537e+05. Parameter\n",
      "estimation work better when this value is between 1 and 1000. The recommended\n",
      "rescaling is 0.1 * y.\n",
      "\n",
      "This warning can be disabled by either rescaling y before initializing the\n",
      "model or by setting rescale=False.\n",
      "\n",
      "  warnings.warn(\n"
     ]
    },
    {
     "name": "stdout",
     "output_type": "stream",
     "text": [
      "Iteration:      1,   Func. Count:     25,   Neg. LLF: 232610.0639753736\n",
      "Iteration:      2,   Func. Count:     49,   Neg. LLF: 301195.2125748828\n",
      "Iteration:      3,   Func. Count:     74,   Neg. LLF: 261123.97399789465\n",
      "Iteration:      4,   Func. Count:     99,   Neg. LLF: 231517.8585382601\n",
      "Iteration:      5,   Func. Count:    123,   Neg. LLF: 231949.13141382305\n",
      "Iteration:      6,   Func. Count:    149,   Neg. LLF: 231460.74783793197\n",
      "Iteration:      7,   Func. Count:    173,   Neg. LLF: 307348.81304113485\n",
      "Iteration:      8,   Func. Count:    199,   Neg. LLF: 307349.52108552656\n",
      "Iteration:      9,   Func. Count:    226,   Neg. LLF: 231458.92929222155\n",
      "Iteration:     10,   Func. Count:    250,   Neg. LLF: 231458.70410980523\n",
      "Optimization terminated successfully    (Exit mode 0)\n",
      "            Current function value: 231458.7039911911\n",
      "            Iterations: 14\n",
      "            Function evaluations: 250\n",
      "            Gradient evaluations: 10\n",
      "Iteration:      1,   Func. Count:     26,   Neg. LLF: 232648.81427502344\n"
     ]
    },
    {
     "name": "stderr",
     "output_type": "stream",
     "text": [
      "/Users/enguerrandvoisine/opt/anaconda3/lib/python3.8/site-packages/arch/univariate/base.py:316: DataScaleWarning: y is poorly scaled, which may affect convergence of the optimizer when\n",
      "estimating the model parameters. The scale of y is 4.537e+05. Parameter\n",
      "estimation work better when this value is between 1 and 1000. The recommended\n",
      "rescaling is 0.1 * y.\n",
      "\n",
      "This warning can be disabled by either rescaling y before initializing the\n",
      "model or by setting rescale=False.\n",
      "\n",
      "  warnings.warn(\n"
     ]
    },
    {
     "name": "stdout",
     "output_type": "stream",
     "text": [
      "Iteration:      2,   Func. Count:     51,   Neg. LLF: 255644.6796743722\n",
      "Iteration:      3,   Func. Count:     77,   Neg. LLF: 261539.04544129397\n",
      "Iteration:      4,   Func. Count:    103,   Neg. LLF: 231560.930683947\n",
      "Iteration:      5,   Func. Count:    128,   Neg. LLF: 231552.5232627208\n",
      "Iteration:      6,   Func. Count:    154,   Neg. LLF: 231488.30397011864\n",
      "Iteration:      7,   Func. Count:    179,   Neg. LLF: 306504.0900748824\n",
      "Iteration:      8,   Func. Count:    205,   Neg. LLF: 231681.77940494096\n",
      "Iteration:      9,   Func. Count:    231,   Neg. LLF: 231474.95817083446\n",
      "Iteration:     10,   Func. Count:    257,   Neg. LLF: 287303.0409376288\n",
      "Iteration:     11,   Func. Count:    284,   Neg. LLF: 231460.24237342775\n",
      "Optimization terminated successfully    (Exit mode 0)\n",
      "            Current function value: 231460.2422557599\n",
      "            Iterations: 15\n",
      "            Function evaluations: 284\n",
      "            Gradient evaluations: 11\n"
     ]
    },
    {
     "name": "stderr",
     "output_type": "stream",
     "text": [
      "/Users/enguerrandvoisine/opt/anaconda3/lib/python3.8/site-packages/arch/univariate/base.py:316: DataScaleWarning: y is poorly scaled, which may affect convergence of the optimizer when\n",
      "estimating the model parameters. The scale of y is 4.537e+05. Parameter\n",
      "estimation work better when this value is between 1 and 1000. The recommended\n",
      "rescaling is 0.1 * y.\n",
      "\n",
      "This warning can be disabled by either rescaling y before initializing the\n",
      "model or by setting rescale=False.\n",
      "\n",
      "  warnings.warn(\n"
     ]
    },
    {
     "name": "stdout",
     "output_type": "stream",
     "text": [
      "Iteration:      1,   Func. Count:     27,   Neg. LLF: 232617.5020103167\n",
      "Iteration:      2,   Func. Count:     53,   Neg. LLF: 301191.62489201693\n",
      "Iteration:      3,   Func. Count:     80,   Neg. LLF: 261257.3467444633\n",
      "Iteration:      4,   Func. Count:    107,   Neg. LLF: 231690.21173460415\n",
      "Iteration:      5,   Func. Count:    133,   Neg. LLF: 231562.44921154782\n",
      "Iteration:      6,   Func. Count:    159,   Neg. LLF: 231479.45387888546\n",
      "Iteration:      7,   Func. Count:    185,   Neg. LLF: 307014.383797843\n",
      "Iteration:      8,   Func. Count:    212,   Neg. LLF: 231464.68524476734\n",
      "Iteration:      9,   Func. Count:    238,   Neg. LLF: 231460.29546362342\n",
      "Optimization terminated successfully    (Exit mode 0)\n",
      "            Current function value: 231460.29534699608\n",
      "            Iterations: 13\n",
      "            Function evaluations: 238\n",
      "            Gradient evaluations: 9\n",
      "Iteration:      1,   Func. Count:     28,   Neg. LLF: 232623.0321667532\n"
     ]
    },
    {
     "name": "stderr",
     "output_type": "stream",
     "text": [
      "/Users/enguerrandvoisine/opt/anaconda3/lib/python3.8/site-packages/arch/univariate/base.py:316: DataScaleWarning: y is poorly scaled, which may affect convergence of the optimizer when\n",
      "estimating the model parameters. The scale of y is 4.537e+05. Parameter\n",
      "estimation work better when this value is between 1 and 1000. The recommended\n",
      "rescaling is 0.1 * y.\n",
      "\n",
      "This warning can be disabled by either rescaling y before initializing the\n",
      "model or by setting rescale=False.\n",
      "\n",
      "  warnings.warn(\n"
     ]
    },
    {
     "name": "stdout",
     "output_type": "stream",
     "text": [
      "Iteration:      2,   Func. Count:     55,   Neg. LLF: 295085.7010186758\n",
      "Iteration:      3,   Func. Count:     83,   Neg. LLF: 261328.57167214665\n",
      "Iteration:      4,   Func. Count:    111,   Neg. LLF: 231473.1888052008\n",
      "Iteration:      5,   Func. Count:    138,   Neg. LLF: 231458.61611813004\n",
      "Iteration:      6,   Func. Count:    164,   Neg. LLF: 231458.61623564558\n",
      "Optimization terminated successfully    (Exit mode 0)\n",
      "            Current function value: 231458.61611813004\n",
      "            Iterations: 10\n",
      "            Function evaluations: 164\n",
      "            Gradient evaluations: 6\n"
     ]
    },
    {
     "name": "stderr",
     "output_type": "stream",
     "text": [
      "/Users/enguerrandvoisine/opt/anaconda3/lib/python3.8/site-packages/arch/univariate/base.py:316: DataScaleWarning: y is poorly scaled, which may affect convergence of the optimizer when\n",
      "estimating the model parameters. The scale of y is 4.537e+05. Parameter\n",
      "estimation work better when this value is between 1 and 1000. The recommended\n",
      "rescaling is 0.1 * y.\n",
      "\n",
      "This warning can be disabled by either rescaling y before initializing the\n",
      "model or by setting rescale=False.\n",
      "\n",
      "  warnings.warn(\n"
     ]
    },
    {
     "name": "stdout",
     "output_type": "stream",
     "text": [
      "Iteration:      1,   Func. Count:     29,   Neg. LLF: 232627.2338138788\n",
      "Iteration:      2,   Func. Count:     57,   Neg. LLF: 255900.1279519632\n",
      "Iteration:      3,   Func. Count:     86,   Neg. LLF: 234127.7668495927\n",
      "Iteration:      4,   Func. Count:    115,   Neg. LLF: 306855.24430342374\n",
      "Iteration:      5,   Func. Count:    144,   Neg. LLF: 267813.8693251411\n",
      "Iteration:      6,   Func. Count:    173,   Neg. LLF: 231481.62635343452\n",
      "Iteration:      7,   Func. Count:    201,   Neg. LLF: 296747.30748806475\n",
      "Iteration:      8,   Func. Count:    230,   Neg. LLF: 231495.24381663027\n",
      "Iteration:      9,   Func. Count:    259,   Neg. LLF: 231460.60998318298\n",
      "Iteration:     10,   Func. Count:    287,   Neg. LLF: 307045.96009622357\n",
      "Iteration:     11,   Func. Count:    316,   Neg. LLF: 231460.31391448906\n",
      "Optimization terminated successfully    (Exit mode 0)\n",
      "            Current function value: 231460.31379432985\n",
      "            Iterations: 15\n",
      "            Function evaluations: 316\n",
      "            Gradient evaluations: 11\n"
     ]
    },
    {
     "name": "stderr",
     "output_type": "stream",
     "text": [
      "/Users/enguerrandvoisine/opt/anaconda3/lib/python3.8/site-packages/arch/univariate/base.py:316: DataScaleWarning: y is poorly scaled, which may affect convergence of the optimizer when\n",
      "estimating the model parameters. The scale of y is 4.537e+05. Parameter\n",
      "estimation work better when this value is between 1 and 1000. The recommended\n",
      "rescaling is 0.1 * y.\n",
      "\n",
      "This warning can be disabled by either rescaling y before initializing the\n",
      "model or by setting rescale=False.\n",
      "\n",
      "  warnings.warn(\n"
     ]
    },
    {
     "name": "stdout",
     "output_type": "stream",
     "text": [
      "Iteration:      1,   Func. Count:     30,   Neg. LLF: 232624.91033527593\n",
      "Iteration:      2,   Func. Count:     59,   Neg. LLF: 253973.74640739\n",
      "Iteration:      3,   Func. Count:     89,   Neg. LLF: 235100.1290256548\n",
      "Iteration:      4,   Func. Count:    119,   Neg. LLF: 259964.7404661542\n",
      "Iteration:      5,   Func. Count:    149,   Neg. LLF: 231462.93890489906\n",
      "Iteration:      6,   Func. Count:    178,   Neg. LLF: 231481.94678965735\n",
      "Iteration:      7,   Func. Count:    208,   Neg. LLF: 231474.94151042495\n",
      "Iteration:      8,   Func. Count:    240,   Neg. LLF: 303495.0360191846\n",
      "Iteration:      9,   Func. Count:    272,   Neg. LLF: 306849.5450850947\n",
      "Iteration:     10,   Func. Count:    304,   Neg. LLF: 231473.91189078573\n",
      "Iteration:     11,   Func. Count:    335,   Neg. LLF: 231462.08442368222\n",
      "Iteration:     12,   Func. Count:    363,   Neg. LLF: 231462.08454907202\n",
      "Optimization terminated successfully    (Exit mode 0)\n",
      "            Current function value: 231462.08442368222\n",
      "            Iterations: 16\n",
      "            Function evaluations: 363\n",
      "            Gradient evaluations: 12\n"
     ]
    },
    {
     "name": "stderr",
     "output_type": "stream",
     "text": [
      "/Users/enguerrandvoisine/opt/anaconda3/lib/python3.8/site-packages/arch/univariate/base.py:316: DataScaleWarning: y is poorly scaled, which may affect convergence of the optimizer when\n",
      "estimating the model parameters. The scale of y is 4.537e+05. Parameter\n",
      "estimation work better when this value is between 1 and 1000. The recommended\n",
      "rescaling is 0.1 * y.\n",
      "\n",
      "This warning can be disabled by either rescaling y before initializing the\n",
      "model or by setting rescale=False.\n",
      "\n",
      "  warnings.warn(\n"
     ]
    },
    {
     "name": "stdout",
     "output_type": "stream",
     "text": [
      "Iteration:      1,   Func. Count:     31,   Neg. LLF: 232631.97149597504\n",
      "Iteration:      2,   Func. Count:     61,   Neg. LLF: 252654.88812086667\n",
      "Iteration:      3,   Func. Count:     92,   Neg. LLF: 233871.68615838225\n",
      "Iteration:      4,   Func. Count:    123,   Neg. LLF: 257019.49221591066\n",
      "Iteration:      5,   Func. Count:    154,   Neg. LLF: 231463.35190813738\n",
      "Iteration:      6,   Func. Count:    183,   Neg. LLF: 231463.35203829283\n",
      "Optimization terminated successfully    (Exit mode 0)\n",
      "            Current function value: 231463.35190813738\n",
      "            Iterations: 10\n",
      "            Function evaluations: 183\n",
      "            Gradient evaluations: 6\n",
      "Iteration:      1,   Func. Count:     32,   Neg. LLF: 232623.6067851653\n"
     ]
    },
    {
     "name": "stderr",
     "output_type": "stream",
     "text": [
      "/Users/enguerrandvoisine/opt/anaconda3/lib/python3.8/site-packages/arch/univariate/base.py:316: DataScaleWarning: y is poorly scaled, which may affect convergence of the optimizer when\n",
      "estimating the model parameters. The scale of y is 4.537e+05. Parameter\n",
      "estimation work better when this value is between 1 and 1000. The recommended\n",
      "rescaling is 0.1 * y.\n",
      "\n",
      "This warning can be disabled by either rescaling y before initializing the\n",
      "model or by setting rescale=False.\n",
      "\n",
      "  warnings.warn(\n"
     ]
    },
    {
     "name": "stdout",
     "output_type": "stream",
     "text": [
      "Iteration:      2,   Func. Count:     63,   Neg. LLF: 252238.3184306629\n",
      "Iteration:      3,   Func. Count:     95,   Neg. LLF: 311336.171989278\n",
      "Iteration:      4,   Func. Count:    127,   Neg. LLF: 231484.94727653934\n",
      "Iteration:      5,   Func. Count:    158,   Neg. LLF: 231468.06693073345\n",
      "Iteration:      6,   Func. Count:    189,   Neg. LLF: 231473.4261321993\n",
      "Iteration:      7,   Func. Count:    220,   Neg. LLF: 231458.74397451628\n",
      "Optimization terminated successfully    (Exit mode 0)\n",
      "            Current function value: 231458.74384459446\n",
      "            Iterations: 11\n",
      "            Function evaluations: 220\n",
      "            Gradient evaluations: 7\n"
     ]
    },
    {
     "name": "stderr",
     "output_type": "stream",
     "text": [
      "/Users/enguerrandvoisine/opt/anaconda3/lib/python3.8/site-packages/arch/univariate/base.py:316: DataScaleWarning: y is poorly scaled, which may affect convergence of the optimizer when\n",
      "estimating the model parameters. The scale of y is 4.537e+05. Parameter\n",
      "estimation work better when this value is between 1 and 1000. The recommended\n",
      "rescaling is 0.1 * y.\n",
      "\n",
      "This warning can be disabled by either rescaling y before initializing the\n",
      "model or by setting rescale=False.\n",
      "\n",
      "  warnings.warn(\n"
     ]
    },
    {
     "name": "stdout",
     "output_type": "stream",
     "text": [
      "Iteration:      1,   Func. Count:     33,   Neg. LLF: 232633.46739722136\n",
      "Iteration:      2,   Func. Count:     65,   Neg. LLF: 250787.820618596\n",
      "Iteration:      3,   Func. Count:     98,   Neg. LLF: 231709.0643350617\n",
      "Iteration:      4,   Func. Count:    130,   Neg. LLF: 267994.46894409973\n",
      "Iteration:      5,   Func. Count:    163,   Neg. LLF: 231468.53980511578\n",
      "Iteration:      6,   Func. Count:    194,   Neg. LLF: 231468.5399430155\n",
      "Optimization terminated successfully    (Exit mode 0)\n",
      "            Current function value: 231468.53980511578\n",
      "            Iterations: 10\n",
      "            Function evaluations: 194\n",
      "            Gradient evaluations: 6\n"
     ]
    },
    {
     "name": "stderr",
     "output_type": "stream",
     "text": [
      "/Users/enguerrandvoisine/opt/anaconda3/lib/python3.8/site-packages/arch/univariate/base.py:316: DataScaleWarning: y is poorly scaled, which may affect convergence of the optimizer when\n",
      "estimating the model parameters. The scale of y is 4.537e+05. Parameter\n",
      "estimation work better when this value is between 1 and 1000. The recommended\n",
      "rescaling is 0.1 * y.\n",
      "\n",
      "This warning can be disabled by either rescaling y before initializing the\n",
      "model or by setting rescale=False.\n",
      "\n",
      "  warnings.warn(\n"
     ]
    },
    {
     "name": "stdout",
     "output_type": "stream",
     "text": [
      "Iteration:      1,   Func. Count:     34,   Neg. LLF: 232663.1721032866\n",
      "Iteration:      2,   Func. Count:     67,   Neg. LLF: 252895.90073496173\n",
      "Iteration:      3,   Func. Count:    101,   Neg. LLF: 261289.0432581362\n",
      "Iteration:      4,   Func. Count:    135,   Neg. LLF: 232141.08232387755\n",
      "Iteration:      5,   Func. Count:    169,   Neg. LLF: 231798.57036308062\n",
      "Iteration:      6,   Func. Count:    202,   Neg. LLF: 231600.84052882192\n",
      "Iteration:      7,   Func. Count:    235,   Neg. LLF: 305713.07957467105\n",
      "Iteration:      8,   Func. Count:    269,   Neg. LLF: 274426.66108403425\n",
      "Iteration:      9,   Func. Count:    304,   Neg. LLF: 231472.70525314275\n",
      "Iteration:     10,   Func. Count:    337,   Neg. LLF: 231489.69731177617\n",
      "Iteration:     11,   Func. Count:    370,   Neg. LLF: 231470.45568056713\n",
      "Optimization terminated successfully    (Exit mode 0)\n",
      "            Current function value: 231470.4555391576\n",
      "            Iterations: 15\n",
      "            Function evaluations: 370\n",
      "            Gradient evaluations: 11\n"
     ]
    },
    {
     "name": "stderr",
     "output_type": "stream",
     "text": [
      "/Users/enguerrandvoisine/opt/anaconda3/lib/python3.8/site-packages/arch/univariate/base.py:316: DataScaleWarning: y is poorly scaled, which may affect convergence of the optimizer when\n",
      "estimating the model parameters. The scale of y is 4.537e+05. Parameter\n",
      "estimation work better when this value is between 1 and 1000. The recommended\n",
      "rescaling is 0.1 * y.\n",
      "\n",
      "This warning can be disabled by either rescaling y before initializing the\n",
      "model or by setting rescale=False.\n",
      "\n",
      "  warnings.warn(\n"
     ]
    },
    {
     "name": "stdout",
     "output_type": "stream",
     "text": [
      "Iteration:      1,   Func. Count:     35,   Neg. LLF: 232630.880464131\n",
      "Iteration:      2,   Func. Count:     69,   Neg. LLF: 249318.49195503374\n",
      "Iteration:      3,   Func. Count:    104,   Neg. LLF: 231634.93917526526\n",
      "Iteration:      4,   Func. Count:    138,   Neg. LLF: 269830.8922981002\n",
      "Iteration:      5,   Func. Count:    173,   Neg. LLF: 266161.03227764636\n",
      "Iteration:      6,   Func. Count:    208,   Neg. LLF: 231540.99666117088\n",
      "Optimization terminated successfully    (Exit mode 0)\n",
      "            Current function value: 231540.99651321635\n",
      "            Iterations: 10\n",
      "            Function evaluations: 208\n",
      "            Gradient evaluations: 6\n",
      "Iteration:      1,   Func. Count:     36,   Neg. LLF: 233539.43981672925\n"
     ]
    },
    {
     "name": "stderr",
     "output_type": "stream",
     "text": [
      "/Users/enguerrandvoisine/opt/anaconda3/lib/python3.8/site-packages/arch/univariate/base.py:316: DataScaleWarning: y is poorly scaled, which may affect convergence of the optimizer when\n",
      "estimating the model parameters. The scale of y is 4.537e+05. Parameter\n",
      "estimation work better when this value is between 1 and 1000. The recommended\n",
      "rescaling is 0.1 * y.\n",
      "\n",
      "This warning can be disabled by either rescaling y before initializing the\n",
      "model or by setting rescale=False.\n",
      "\n",
      "  warnings.warn(\n"
     ]
    },
    {
     "name": "stdout",
     "output_type": "stream",
     "text": [
      "Iteration:      2,   Func. Count:     71,   Neg. LLF: 246362.22187289066\n",
      "Iteration:      3,   Func. Count:    107,   Neg. LLF: 286119.6640741397\n",
      "Iteration:      4,   Func. Count:    143,   Neg. LLF: 232445.0787934616\n",
      "Iteration:      5,   Func. Count:    177,   Neg. LLF: 232445.07891386835\n",
      "Optimization terminated successfully    (Exit mode 0)\n",
      "            Current function value: 232445.0787934616\n",
      "            Iterations: 9\n",
      "            Function evaluations: 177\n",
      "            Gradient evaluations: 5\n"
     ]
    },
    {
     "name": "stderr",
     "output_type": "stream",
     "text": [
      "/Users/enguerrandvoisine/opt/anaconda3/lib/python3.8/site-packages/arch/univariate/base.py:316: DataScaleWarning: y is poorly scaled, which may affect convergence of the optimizer when\n",
      "estimating the model parameters. The scale of y is 4.537e+05. Parameter\n",
      "estimation work better when this value is between 1 and 1000. The recommended\n",
      "rescaling is 0.1 * y.\n",
      "\n",
      "This warning can be disabled by either rescaling y before initializing the\n",
      "model or by setting rescale=False.\n",
      "\n",
      "  warnings.warn(\n"
     ]
    },
    {
     "name": "stdout",
     "output_type": "stream",
     "text": [
      "Iteration:      1,   Func. Count:     37,   Neg. LLF: 233554.56127949653\n",
      "Iteration:      2,   Func. Count:     73,   Neg. LLF: 246010.68330659327\n",
      "Iteration:      3,   Func. Count:    110,   Neg. LLF: 286118.4862001233\n",
      "Iteration:      4,   Func. Count:    147,   Neg. LLF: 232680.21551649133\n",
      "Iteration:      5,   Func. Count:    184,   Neg. LLF: 285868.8720064149\n",
      "Iteration:      6,   Func. Count:    221,   Neg. LLF: 232471.4192377085\n",
      "Iteration:      7,   Func. Count:    257,   Neg. LLF: 285349.98953523894\n",
      "Iteration:      8,   Func. Count:    294,   Neg. LLF: 232471.1271725651\n",
      "Optimization terminated successfully    (Exit mode 0)\n",
      "            Current function value: 232471.12704411763\n",
      "            Iterations: 12\n",
      "            Function evaluations: 294\n",
      "            Gradient evaluations: 8\n"
     ]
    },
    {
     "name": "stderr",
     "output_type": "stream",
     "text": [
      "/Users/enguerrandvoisine/opt/anaconda3/lib/python3.8/site-packages/arch/univariate/base.py:316: DataScaleWarning: y is poorly scaled, which may affect convergence of the optimizer when\n",
      "estimating the model parameters. The scale of y is 4.537e+05. Parameter\n",
      "estimation work better when this value is between 1 and 1000. The recommended\n",
      "rescaling is 0.1 * y.\n",
      "\n",
      "This warning can be disabled by either rescaling y before initializing the\n",
      "model or by setting rescale=False.\n",
      "\n",
      "  warnings.warn(\n"
     ]
    },
    {
     "name": "stdout",
     "output_type": "stream",
     "text": [
      "Iteration:      1,   Func. Count:     38,   Neg. LLF: 233657.96152779416\n",
      "Iteration:      2,   Func. Count:     75,   Neg. LLF: 245644.30061636592\n",
      "Iteration:      3,   Func. Count:    113,   Neg. LLF: 232760.34710521693\n",
      "Iteration:      4,   Func. Count:    150,   Neg. LLF: 282744.8701254074\n",
      "Iteration:      5,   Func. Count:    188,   Neg. LLF: 232458.365226085\n",
      "Iteration:      6,   Func. Count:    225,   Neg. LLF: 232713.79646158032\n",
      "Iteration:      7,   Func. Count:    262,   Neg. LLF: 232432.57285498054\n",
      "Optimization terminated successfully    (Exit mode 0)\n",
      "            Current function value: 232432.57271743153\n",
      "            Iterations: 11\n",
      "            Function evaluations: 262\n",
      "            Gradient evaluations: 7\n",
      "Iteration:      1,   Func. Count:     39,   Neg. LLF: 233555.12785523082\n"
     ]
    },
    {
     "name": "stderr",
     "output_type": "stream",
     "text": [
      "/Users/enguerrandvoisine/opt/anaconda3/lib/python3.8/site-packages/arch/univariate/base.py:316: DataScaleWarning: y is poorly scaled, which may affect convergence of the optimizer when\n",
      "estimating the model parameters. The scale of y is 4.537e+05. Parameter\n",
      "estimation work better when this value is between 1 and 1000. The recommended\n",
      "rescaling is 0.1 * y.\n",
      "\n",
      "This warning can be disabled by either rescaling y before initializing the\n",
      "model or by setting rescale=False.\n",
      "\n",
      "  warnings.warn(\n"
     ]
    },
    {
     "name": "stdout",
     "output_type": "stream",
     "text": [
      "Iteration:      2,   Func. Count:     77,   Neg. LLF: 245481.13250363345\n",
      "Iteration:      3,   Func. Count:    116,   Neg. LLF: 233263.08741604246\n",
      "Iteration:      4,   Func. Count:    154,   Neg. LLF: 232724.93333370288\n",
      "Positive directional derivative for linesearch    (Exit mode 8)\n",
      "            Current function value: 232724.93317430318\n",
      "            Iterations: 8\n",
      "            Function evaluations: 154\n",
      "            Gradient evaluations: 4\n"
     ]
    },
    {
     "name": "stderr",
     "output_type": "stream",
     "text": [
      "/Users/enguerrandvoisine/opt/anaconda3/lib/python3.8/site-packages/arch/univariate/base.py:750: ConvergenceWarning: The optimizer returned code 8. The message is:\n",
      "Positive directional derivative for linesearch\n",
      "See scipy.optimize.fmin_slsqp for code meaning.\n",
      "\n",
      "  warnings.warn(\n",
      "/Users/enguerrandvoisine/opt/anaconda3/lib/python3.8/site-packages/arch/univariate/base.py:316: DataScaleWarning: y is poorly scaled, which may affect convergence of the optimizer when\n",
      "estimating the model parameters. The scale of y is 4.537e+05. Parameter\n",
      "estimation work better when this value is between 1 and 1000. The recommended\n",
      "rescaling is 0.1 * y.\n",
      "\n",
      "This warning can be disabled by either rescaling y before initializing the\n",
      "model or by setting rescale=False.\n",
      "\n",
      "  warnings.warn(\n"
     ]
    },
    {
     "name": "stdout",
     "output_type": "stream",
     "text": [
      "Iteration:      1,   Func. Count:     40,   Neg. LLF: 233611.07295709246\n",
      "Iteration:      2,   Func. Count:     79,   Neg. LLF: 245281.55091858216\n",
      "Iteration:      3,   Func. Count:    119,   Neg. LLF: 232717.99920836056\n",
      "Iteration:      4,   Func. Count:    158,   Neg. LLF: 283654.87294223765\n",
      "Iteration:      5,   Func. Count:    198,   Neg. LLF: 232435.49389758427\n",
      "Iteration:      6,   Func. Count:    237,   Neg. LLF: 232712.90654615048\n",
      "Iteration:      7,   Func. Count:    277,   Neg. LLF: 232445.6808699498\n",
      "Iteration:      8,   Func. Count:    317,   Neg. LLF: 232425.38409535904\n",
      "Iteration:      9,   Func. Count:    355,   Neg. LLF: 232425.38423252714\n",
      "Optimization terminated successfully    (Exit mode 0)\n",
      "            Current function value: 232425.38409535904\n",
      "            Iterations: 13\n",
      "            Function evaluations: 355\n",
      "            Gradient evaluations: 9\n"
     ]
    },
    {
     "name": "stderr",
     "output_type": "stream",
     "text": [
      "/Users/enguerrandvoisine/opt/anaconda3/lib/python3.8/site-packages/arch/univariate/base.py:316: DataScaleWarning: y is poorly scaled, which may affect convergence of the optimizer when\n",
      "estimating the model parameters. The scale of y is 4.537e+05. Parameter\n",
      "estimation work better when this value is between 1 and 1000. The recommended\n",
      "rescaling is 0.1 * y.\n",
      "\n",
      "This warning can be disabled by either rescaling y before initializing the\n",
      "model or by setting rescale=False.\n",
      "\n",
      "  warnings.warn(\n"
     ]
    },
    {
     "name": "stdout",
     "output_type": "stream",
     "text": [
      "Iteration:      1,   Func. Count:     41,   Neg. LLF: 233532.03402434825\n",
      "Iteration:      2,   Func. Count:     80,   Neg. LLF: 233532.03418031242\n",
      "Positive directional derivative for linesearch    (Exit mode 8)\n",
      "            Current function value: 233532.03402434825\n",
      "            Iterations: 6\n",
      "            Function evaluations: 80\n",
      "            Gradient evaluations: 2\n"
     ]
    },
    {
     "name": "stderr",
     "output_type": "stream",
     "text": [
      "/Users/enguerrandvoisine/opt/anaconda3/lib/python3.8/site-packages/arch/univariate/base.py:750: ConvergenceWarning: The optimizer returned code 8. The message is:\n",
      "Positive directional derivative for linesearch\n",
      "See scipy.optimize.fmin_slsqp for code meaning.\n",
      "\n",
      "  warnings.warn(\n",
      "/Users/enguerrandvoisine/opt/anaconda3/lib/python3.8/site-packages/arch/univariate/base.py:316: DataScaleWarning: y is poorly scaled, which may affect convergence of the optimizer when\n",
      "estimating the model parameters. The scale of y is 4.537e+05. Parameter\n",
      "estimation work better when this value is between 1 and 1000. The recommended\n",
      "rescaling is 0.1 * y.\n",
      "\n",
      "This warning can be disabled by either rescaling y before initializing the\n",
      "model or by setting rescale=False.\n",
      "\n",
      "  warnings.warn(\n"
     ]
    },
    {
     "name": "stdout",
     "output_type": "stream",
     "text": [
      "Iteration:      1,   Func. Count:     42,   Neg. LLF: 233542.12908742033\n",
      "Iteration:      2,   Func. Count:     83,   Neg. LLF: 247575.11492497465\n",
      "Iteration:      3,   Func. Count:    134,   Neg. LLF: 309343.5025001756\n",
      "Iteration:      4,   Func. Count:    185,   Neg. LLF: 272451.2619759715\n",
      "Iteration:      5,   Func. Count:    227,   Neg. LLF: 248021.31782822998\n",
      "Iteration:      6,   Func. Count:    269,   Neg. LLF: 258007.08944584086\n",
      "Iteration:      7,   Func. Count:    311,   Neg. LLF: 232431.48654321991\n",
      "Iteration:      8,   Func. Count:    351,   Neg. LLF: 232431.48666646937\n",
      "Optimization terminated successfully    (Exit mode 0)\n",
      "            Current function value: 232431.48654321991\n",
      "            Iterations: 12\n",
      "            Function evaluations: 351\n",
      "            Gradient evaluations: 8\n"
     ]
    },
    {
     "name": "stderr",
     "output_type": "stream",
     "text": [
      "/Users/enguerrandvoisine/opt/anaconda3/lib/python3.8/site-packages/arch/univariate/base.py:316: DataScaleWarning: y is poorly scaled, which may affect convergence of the optimizer when\n",
      "estimating the model parameters. The scale of y is 4.537e+05. Parameter\n",
      "estimation work better when this value is between 1 and 1000. The recommended\n",
      "rescaling is 0.1 * y.\n",
      "\n",
      "This warning can be disabled by either rescaling y before initializing the\n",
      "model or by setting rescale=False.\n",
      "\n",
      "  warnings.warn(\n"
     ]
    },
    {
     "name": "stdout",
     "output_type": "stream",
     "text": [
      "Iteration:      1,   Func. Count:     43,   Neg. LLF: 233807.74221409264\n",
      "Iteration:      2,   Func. Count:     85,   Neg. LLF: 244491.23435891652\n",
      "Iteration:      3,   Func. Count:    128,   Neg. LLF: 245314.89355902257\n",
      "Iteration:      4,   Func. Count:    171,   Neg. LLF: 286340.84538050654\n",
      "Iteration:      5,   Func. Count:    214,   Neg. LLF: 259269.5935324283\n",
      "Iteration:      6,   Func. Count:    257,   Neg. LLF: 232568.69160411216\n",
      "Iteration:      7,   Func. Count:    299,   Neg. LLF: 232552.51553514178\n",
      "Iteration:      8,   Func. Count:    341,   Neg. LLF: 232425.26229742728\n",
      "Iteration:      9,   Func. Count:    382,   Neg. LLF: 232425.26241705572\n",
      "Optimization terminated successfully    (Exit mode 0)\n",
      "            Current function value: 232425.26229742728\n",
      "            Iterations: 13\n",
      "            Function evaluations: 382\n",
      "            Gradient evaluations: 9\n"
     ]
    }
   ],
   "source": [
    "models = []\n",
    "for i in range(1,40):\n",
    "    ft = arch_model(df,vol='ARCH', p=i).fit()\n",
    "    \n",
    "    models.append(( i,ft.bic,ft.aic))"
   ]
  },
  {
   "cell_type": "code",
   "execution_count": 28,
   "metadata": {},
   "outputs": [],
   "source": [
    "models = pd.DataFrame(models,columns=['order','BIC','AIC']).set_index('order')\n",
    "\n",
    "models = models.assign(dBIC=( models.BIC - models.BIC.min()),\n",
    "              dAIC =( models.AIC - models.AIC.min()))"
   ]
  },
  {
   "cell_type": "code",
   "execution_count": 30,
   "metadata": {},
   "outputs": [
    {
     "data": {
      "image/png": "[encoded data removed]",
      "text/plain": [
       "<Figure size 432x288 with 1 Axes>"
      ]
     },
     "metadata": {
      "needs_background": "light"
     },
     "output_type": "display_data"
    }
   ],
   "source": [
    "plt.plot(models.AIC,'-o')\n",
    "plt.xlabel('q',fontsize=16)\n",
    "plt.ylabel('AIC',fontsize=16)\n",
    "plt.tick_params(labelsize=14)\n",
    "plt.grid()"
   ]
  },
  {
   "cell_type": "code",
   "execution_count": 90,
   "metadata": {},
   "outputs": [],
   "source": [
    "choix=int(models[models[\"AIC\"]==models.AIC.min()].index[0])\n"
   ]
  },
  {
   "cell_type": "code",
   "execution_count": 115,
   "metadata": {},
   "outputs": [
    {
     "name": "stdout",
     "output_type": "stream",
     "text": [
      "Iteration:      1,   Func. Count:      6,   Neg. LLF: 231569.25075515034\n",
      "Iteration:      2,   Func. Count:     11,   Neg. LLF: 6930511.763664607\n",
      "Iteration:      3,   Func. Count:     18,   Neg. LLF: 230499.1809245347\n",
      "Iteration:      4,   Func. Count:     24,   Neg. LLF: 230347.9553064123\n",
      "Iteration:      5,   Func. Count:     29,   Neg. LLF: 230347.82863151885\n",
      "Iteration:      6,   Func. Count:     34,   Neg. LLF: 230347.82858396406\n",
      "Iteration:      7,   Func. Count:     39,   Neg. LLF: 230347.8124728538\n",
      "Iteration:      8,   Func. Count:     44,   Neg. LLF: 230347.6846063896\n",
      "Iteration:      9,   Func. Count:     49,   Neg. LLF: 230346.94991196244\n",
      "Iteration:     10,   Func. Count:     54,   Neg. LLF: 230342.97103623947\n",
      "Iteration:     11,   Func. Count:     59,   Neg. LLF: 230327.56793985207\n",
      "Iteration:     12,   Func. Count:     64,   Neg. LLF: 230305.35100230633\n",
      "Iteration:     13,   Func. Count:     69,   Neg. LLF: 230223.30892959988\n",
      "Iteration:     14,   Func. Count:     74,   Neg. LLF: 230103.9246808448\n",
      "Iteration:     15,   Func. Count:     79,   Neg. LLF: 229650.02253376145\n",
      "Iteration:     16,   Func. Count:     84,   Neg. LLF: 266083.10995118885\n",
      "Iteration:     17,   Func. Count:     90,   Neg. LLF: 232705.20687175836\n",
      "Iteration:     18,   Func. Count:     97,   Neg. LLF: 242386.47995271295\n",
      "Iteration:     19,   Func. Count:    103,   Neg. LLF: 229391.57476585297\n",
      "Iteration:     20,   Func. Count:    109,   Neg. LLF: 239930.86146726343\n",
      "Iteration:     21,   Func. Count:    115,   Neg. LLF: 228671.93813074596\n",
      "Iteration:     22,   Func. Count:    120,   Neg. LLF: 228620.1458135541\n",
      "Iteration:     23,   Func. Count:    125,   Neg. LLF: 228580.64715079375\n",
      "Iteration:     24,   Func. Count:    130,   Neg. LLF: 228578.1642152494\n",
      "Iteration:     25,   Func. Count:    135,   Neg. LLF: 228573.681818977\n",
      "Iteration:     26,   Func. Count:    140,   Neg. LLF: 228573.4363198047\n",
      "Iteration:     27,   Func. Count:    146,   Neg. LLF: 228572.898188824\n",
      "Iteration:     28,   Func. Count:    151,   Neg. LLF: 228572.89724658878\n",
      "Iteration:     29,   Func. Count:    156,   Neg. LLF: 228775.04896279558\n",
      "Iteration:     30,   Func. Count:    171,   Neg. LLF: 228572.8972610737\n",
      "Iteration:     31,   Func. Count:    177,   Neg. LLF: 228572.8974258782\n",
      "Optimization terminated successfully    (Exit mode 0)\n",
      "            Current function value: 228572.89724510745\n",
      "            Iterations: 31\n",
      "            Function evaluations: 187\n",
      "            Gradient evaluations: 31\n"
     ]
    },
    {
     "name": "stderr",
     "output_type": "stream",
     "text": [
      "/Users/enguerrandvoisine/opt/anaconda3/lib/python3.8/site-packages/arch/univariate/base.py:316: DataScaleWarning: y is poorly scaled, which may affect convergence of the optimizer when\n",
      "estimating the model parameters. The scale of y is 4.537e+05. Parameter\n",
      "estimation work better when this value is between 1 and 1000. The recommended\n",
      "rescaling is 0.1 * y.\n",
      "\n",
      "This warning can be disabled by either rescaling y before initializing the\n",
      "model or by setting rescale=False.\n",
      "\n",
      "  warnings.warn(\n"
     ]
    }
   ],
   "source": [
    "ft = arch_model(df,vol='ARCH', p=choix).fit()"
   ]
  },
  {
   "cell_type": "code",
   "execution_count": 116,
   "metadata": {},
   "outputs": [
    {
     "name": "stderr",
     "output_type": "stream",
     "text": [
      "/Users/enguerrandvoisine/opt/anaconda3/lib/python3.8/site-packages/arch/__future__/_utility.py:11: FutureWarning: \n",
      "The default for reindex is True. After September 2021 this will change to\n",
      "False. Set reindex to True or False to silence this message. Alternatively,\n",
      "you can use the import comment\n",
      "\n",
      "from arch.__future__ import reindexing\n",
      "\n",
      "to globally set reindex to True and silence this warning.\n",
      "\n",
      "  warnings.warn(\n"
     ]
    }
   ],
   "source": [
    "a=ft.forecast(horizon=1)"
   ]
  },
  {
   "cell_type": "code",
   "execution_count": 118,
   "metadata": {},
   "outputs": [
    {
     "name": "stdout",
     "output_type": "stream",
     "text": [
      "<arch.univariate.base.ARCHModelForecast object at 0x7f8e4f2bd280>\n"
     ]
    }
   ],
   "source": [
    "print(a.variance)"
   ]
  },
  {
   "cell_type": "code",
   "execution_count": null,
   "metadata": {},
   "outputs": [],
   "source": []
  }
 ],
 "metadata": {
  "kernelspec": {
   "display_name": "Python 3",
   "language": "python",
   "name": "python3"
  },
  "language_info": {
   "codemirror_mode": {
    "name": "ipython",
    "version": 3
   },
   "file_extension": ".py",
   "mimetype": "text/x-python",
   "name": "python",
   "nbconvert_exporter": "python",
   "pygments_lexer": "ipython3",
   "version": "3.8.3"
  }
 },
 "nbformat": 4,
 "nbformat_minor": 4
}
