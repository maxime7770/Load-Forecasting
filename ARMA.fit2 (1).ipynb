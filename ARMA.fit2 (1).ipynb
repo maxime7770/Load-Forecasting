{
 "cells": [
  {
   "cell_type": "code",
   "execution_count": 1,
   "metadata": {},
   "outputs": [],
   "source": [
    "import pandas as pd\n",
    "import numpy as np\n",
    "import matplotlib.pyplot as plt\n",
    "\n",
    "import statsmodels.api as sm\n",
    "from statsmodels.tsa.arima_model import ARMA\n",
    "from statsmodels.stats.diagnostic import acorr_ljungbox"
   ]
  },
  {
   "cell_type": "code",
   "execution_count": 2,
   "metadata": {},
   "outputs": [],
   "source": [
    "def mean_absolute_percentage_error(y_true, y_pred):\n",
    "\n",
    "    y_true, y_pred = np.array(y_true), np.array(y_pred)\n",
    "\n",
    "    return np.mean(np.abs((y_true - y_pred) / y_true)) * 100"
   ]
  },
  {
   "cell_type": "code",
   "execution_count": null,
   "metadata": {},
   "outputs": [],
   "source": [
    "def duple(n):   # on va renvoyer des couples (i,j) pour tenter de fit un arma (i,j)\n",
    "    res =[]\n",
    "    for i in range(0,n):\n",
    "        for j in  range(0,n):\n",
    "            res.append((i,j))\n",
    "    return res\n",
    "\n",
    "\n",
    "\n",
    "\n",
    "S = pd.read_csv('C:\\\\Users\\\\steve\\\\Downloads\\\\loadForecastingDataset-eiST4\\\\dataset_centrale\\\\data\\\\train\\\\AUVERGNE RHONE ALPES.csv')\n",
    "conso = np.array(S['Consommation'])\n",
    "models=duple(5)\n",
    "M = {}\n",
    "for p,q in models:\n",
    "    try:\n",
    "    #fit an arma (for now without trend)\n",
    "        ft =  ARMA(conso,order=(p,q)).fit()\n",
    "        M[p,q] = ft\n",
    "    except ValueError:\n",
    "        print()\n",
    "AIC = pd.DataFrame( [(m,ft.aic) for m,ft in M.items()],columns=['model','AIC'] ) \n",
    "AIC = AIC.assign(dAIC=(AIC.AIC-AIC.AIC.min()))\n",
    "k = np.argmin(AIC['dAIC'])\n",
    "p,q = AIC.model[k]\n",
    "print('le meilleure modèle est un arma' )\n",
    "print(p,q)\n",
    "r = M[p,q].resid\n",
    "print('la p-value est')\n",
    "print(acorr_ljungbox(r,lags=[p+q+1])[1])"
   ]
  },
  {
   "cell_type": "code",
   "execution_count": 10,
   "metadata": {},
   "outputs": [
    {
     "data": {
      "text/html": [
       "<table class=\"simpletable\">\n",
       "<caption>ARMA Model Results</caption>\n",
       "<tr>\n",
       "  <th>Dep. Variable:</th>         <td>y</td>        <th>  No. Observations:  </th>    <td>30672</td>   \n",
       "</tr>\n",
       "<tr>\n",
       "  <th>Model:</th>            <td>ARMA(4, 4)</td>    <th>  Log Likelihood     </th> <td>-191854.135</td>\n",
       "</tr>\n",
       "<tr>\n",
       "  <th>Method:</th>             <td>css-mle</td>     <th>  S.D. of innovations</th>   <td>125.955</td>  \n",
       "</tr>\n",
       "<tr>\n",
       "  <th>Date:</th>          <td>Tue, 08 Jun 2021</td> <th>  AIC                </th> <td>383728.270</td> \n",
       "</tr>\n",
       "<tr>\n",
       "  <th>Time:</th>              <td>17:50:14</td>     <th>  BIC                </th> <td>383811.581</td> \n",
       "</tr>\n",
       "<tr>\n",
       "  <th>Sample:</th>                <td>0</td>        <th>  HQIC               </th> <td>383754.974</td> \n",
       "</tr>\n",
       "<tr>\n",
       "  <th></th>                       <td> </td>        <th>                     </th>      <td> </td>     \n",
       "</tr>\n",
       "</table>\n",
       "<table class=\"simpletable\">\n",
       "<tr>\n",
       "     <td></td>        <th>coef</th>     <th>std err</th>      <th>z</th>      <th>P>|z|</th>  <th>[0.025</th>    <th>0.975]</th>  \n",
       "</tr>\n",
       "<tr>\n",
       "  <th>const</th>   <td> 7602.8250</td> <td>  129.645</td> <td>   58.643</td> <td> 0.000</td> <td> 7348.725</td> <td> 7856.925</td>\n",
       "</tr>\n",
       "<tr>\n",
       "  <th>ar.L1.y</th> <td>    2.5777</td> <td> 8.32e-05</td> <td>  3.1e+04</td> <td> 0.000</td> <td>    2.578</td> <td>    2.578</td>\n",
       "</tr>\n",
       "<tr>\n",
       "  <th>ar.L2.y</th> <td>   -1.9068</td> <td> 9.55e-05</td> <td>   -2e+04</td> <td> 0.000</td> <td>   -1.907</td> <td>   -1.907</td>\n",
       "</tr>\n",
       "<tr>\n",
       "  <th>ar.L3.y</th> <td>   -0.0126</td> <td>    0.000</td> <td>  -75.006</td> <td> 0.000</td> <td>   -0.013</td> <td>   -0.012</td>\n",
       "</tr>\n",
       "<tr>\n",
       "  <th>ar.L4.y</th> <td>    0.3408</td> <td>    0.000</td> <td> 2705.560</td> <td> 0.000</td> <td>    0.341</td> <td>    0.341</td>\n",
       "</tr>\n",
       "<tr>\n",
       "  <th>ma.L1.y</th> <td>   -1.0194</td> <td>    0.008</td> <td> -133.317</td> <td> 0.000</td> <td>   -1.034</td> <td>   -1.004</td>\n",
       "</tr>\n",
       "<tr>\n",
       "  <th>ma.L2.y</th> <td>   -0.3464</td> <td>    0.008</td> <td>  -43.343</td> <td> 0.000</td> <td>   -0.362</td> <td>   -0.331</td>\n",
       "</tr>\n",
       "<tr>\n",
       "  <th>ma.L3.y</th> <td>    0.1299</td> <td>    0.008</td> <td>   16.004</td> <td> 0.000</td> <td>    0.114</td> <td>    0.146</td>\n",
       "</tr>\n",
       "<tr>\n",
       "  <th>ma.L4.y</th> <td>    0.3945</td> <td>    0.005</td> <td>   72.097</td> <td> 0.000</td> <td>    0.384</td> <td>    0.405</td>\n",
       "</tr>\n",
       "</table>\n",
       "<table class=\"simpletable\">\n",
       "<caption>Roots</caption>\n",
       "<tr>\n",
       "    <td></td>   <th>            Real</th>  <th>         Imaginary</th> <th>         Modulus</th>  <th>        Frequency</th>\n",
       "</tr>\n",
       "<tr>\n",
       "  <th>AR.1</th> <td>           0.9661</td> <td>          -0.2589j</td> <td>           1.0002</td> <td>          -0.0417</td>\n",
       "</tr>\n",
       "<tr>\n",
       "  <th>AR.2</th> <td>           0.9661</td> <td>          +0.2589j</td> <td>           1.0002</td> <td>           0.0417</td>\n",
       "</tr>\n",
       "<tr>\n",
       "  <th>AR.3</th> <td>           1.0097</td> <td>          -0.0000j</td> <td>           1.0097</td> <td>          -0.0000</td>\n",
       "</tr>\n",
       "<tr>\n",
       "  <th>AR.4</th> <td>          -2.9049</td> <td>          -0.0000j</td> <td>           2.9049</td> <td>          -0.5000</td>\n",
       "</tr>\n",
       "<tr>\n",
       "  <th>MA.1</th> <td>           0.9697</td> <td>          -0.2620j</td> <td>           1.0044</td> <td>          -0.0420</td>\n",
       "</tr>\n",
       "<tr>\n",
       "  <th>MA.2</th> <td>           0.9697</td> <td>          +0.2620j</td> <td>           1.0044</td> <td>           0.0420</td>\n",
       "</tr>\n",
       "<tr>\n",
       "  <th>MA.3</th> <td>          -1.1343</td> <td>          -1.1072j</td> <td>           1.5851</td> <td>          -0.3769</td>\n",
       "</tr>\n",
       "<tr>\n",
       "  <th>MA.4</th> <td>          -1.1343</td> <td>          +1.1072j</td> <td>           1.5851</td> <td>           0.3769</td>\n",
       "</tr>\n",
       "</table>"
      ],
      "text/plain": [
       "<class 'statsmodels.iolib.summary.Summary'>\n",
       "\"\"\"\n",
       "                              ARMA Model Results                              \n",
       "==============================================================================\n",
       "Dep. Variable:                      y   No. Observations:                30672\n",
       "Model:                     ARMA(4, 4)   Log Likelihood             -191854.135\n",
       "Method:                       css-mle   S.D. of innovations            125.955\n",
       "Date:                Tue, 08 Jun 2021   AIC                         383728.270\n",
       "Time:                        17:50:14   BIC                         383811.581\n",
       "Sample:                             0   HQIC                        383754.974\n",
       "                                                                              \n",
       "==============================================================================\n",
       "                 coef    std err          z      P>|z|      [0.025      0.975]\n",
       "------------------------------------------------------------------------------\n",
       "const       7602.8250    129.645     58.643      0.000    7348.725    7856.925\n",
       "ar.L1.y        2.5777   8.32e-05    3.1e+04      0.000       2.578       2.578\n",
       "ar.L2.y       -1.9068   9.55e-05     -2e+04      0.000      -1.907      -1.907\n",
       "ar.L3.y       -0.0126      0.000    -75.006      0.000      -0.013      -0.012\n",
       "ar.L4.y        0.3408      0.000   2705.560      0.000       0.341       0.341\n",
       "ma.L1.y       -1.0194      0.008   -133.317      0.000      -1.034      -1.004\n",
       "ma.L2.y       -0.3464      0.008    -43.343      0.000      -0.362      -0.331\n",
       "ma.L3.y        0.1299      0.008     16.004      0.000       0.114       0.146\n",
       "ma.L4.y        0.3945      0.005     72.097      0.000       0.384       0.405\n",
       "                                    Roots                                    \n",
       "=============================================================================\n",
       "                  Real          Imaginary           Modulus         Frequency\n",
       "-----------------------------------------------------------------------------\n",
       "AR.1            0.9661           -0.2589j            1.0002           -0.0417\n",
       "AR.2            0.9661           +0.2589j            1.0002            0.0417\n",
       "AR.3            1.0097           -0.0000j            1.0097           -0.0000\n",
       "AR.4           -2.9049           -0.0000j            2.9049           -0.5000\n",
       "MA.1            0.9697           -0.2620j            1.0044           -0.0420\n",
       "MA.2            0.9697           +0.2620j            1.0044            0.0420\n",
       "MA.3           -1.1343           -1.1072j            1.5851           -0.3769\n",
       "MA.4           -1.1343           +1.1072j            1.5851            0.3769\n",
       "-----------------------------------------------------------------------------\n",
       "\"\"\""
      ]
     },
     "execution_count": 10,
     "metadata": {},
     "output_type": "execute_result"
    }
   ],
   "source": [
    "M[4,4].summary()"
   ]
  },
  {
   "cell_type": "code",
   "execution_count": 3,
   "metadata": {},
   "outputs": [],
   "source": [
    "S = pd.read_csv('C:\\\\Users\\\\steve\\\\Downloads\\\\loadForecastingDataset-eiST4\\\\dataset_centrale\\\\data\\\\test\\\\AUVERGNE RHONE ALPES.csv')\n",
    "conso = np.array(S['Consommation'])\n",
    "arma=np.zeros(len(conso))\n",
    "arma[:4]=conso[:4]\n",
    "esp=np.random.normal(size=len(conso))"
   ]
  },
  {
   "cell_type": "code",
   "execution_count": 4,
   "metadata": {},
   "outputs": [],
   "source": [
    "for i in range(4,len(conso)):\n",
    "    arma[i]=(2.5777*arma[i-1]-1.9068*arma[i-2]-0.0126*arma[i-3]+0.3408*arma[i-4]-1.0194*esp[i-1]-0.3464*esp[i-2]+0.1299*esp[i-3]+0.3945*esp[i-4])\n",
    "\n",
    "arma[3:]+=7602.825"
   ]
  },
  {
   "cell_type": "code",
   "execution_count": 5,
   "metadata": {},
   "outputs": [
    {
     "data": {
      "image/png": "[encoded data removed]",
      "text/plain": [
       "<Figure size 432x288 with 1 Axes>"
      ]
     },
     "metadata": {
      "needs_background": "light"
     },
     "output_type": "display_data"
    }
   ],
   "source": [
    "plt.plot(conso,label='Reality')\n",
    "plt.plot(arma,label='ARMA')\n",
    "plt.title('Reality vs ARMA en Auvergne Rhone Alpes')\n",
    "plt.legend(loc='best')\n",
    "plt.show()"
   ]
  },
  {
   "cell_type": "code",
   "execution_count": 6,
   "metadata": {},
   "outputs": [
    {
     "data": {
      "text/plain": [
       "22.955564111862834"
      ]
     },
     "execution_count": 6,
     "metadata": {},
     "output_type": "execute_result"
    }
   ],
   "source": [
    "mean_absolute_percentage_error(conso,arma)"
   ]
  },
  {
   "cell_type": "markdown",
   "metadata": {},
   "source": [
    "The model clearly isn't consistent"
   ]
  },
  {
   "cell_type": "code",
   "execution_count": 60,
   "metadata": {},
   "outputs": [
    {
     "name": "stdout",
     "output_type": "stream",
     "text": [
      "\n",
      "\n",
      "\n"
     ]
    },
    {
     "name": "stderr",
     "output_type": "stream",
     "text": [
      "C:\\Users\\steve\\Anaconda3\\lib\\site-packages\\statsmodels\\base\\model.py:512: ConvergenceWarning: Maximum Likelihood optimization failed to converge. Check mle_retvals\n",
      "  \"Check mle_retvals\", ConvergenceWarning)\n"
     ]
    },
    {
     "name": "stdout",
     "output_type": "stream",
     "text": [
      "le meilleure modèle est un arma\n",
      "3 2\n",
      "la p-value est\n",
      "[3.27457424e-96]\n"
     ]
    }
   ],
   "source": [
    "S = pd.read_csv('C:\\\\Users\\\\steve\\\\Downloads\\\\loadForecastingDataset-eiST4\\\\dataset_centrale\\\\data\\\\train\\\\ILE DE FRANCE.csv')\n",
    "conso = np.array(S['Consommation'])\n",
    "models=duple(5)\n",
    "M = {}\n",
    "for p,q in models:\n",
    "    try:\n",
    "    #fit an arma (for now without trend)\n",
    "        ft =  ARMA(conso,order=(p,q)).fit()\n",
    "        M[p,q] = ft\n",
    "    except ValueError:\n",
    "        print()\n",
    "AIC = pd.DataFrame( [(m,ft.aic) for m,ft in M.items()],columns=['model','AIC'] ) \n",
    "AIC = AIC.assign(dAIC=(AIC.AIC-AIC.AIC.min()))\n",
    "k = np.argmin(AIC['dAIC'])\n",
    "p,q = AIC.model[k]\n",
    "print('le meilleure modèle est un arma' )\n",
    "print(p,q)\n",
    "r = M[p,q].resid\n",
    "print('la p-value est')\n",
    "print(acorr_ljungbox(r,lags=[p+q+1])[1])"
   ]
  },
  {
   "cell_type": "code",
   "execution_count": 61,
   "metadata": {},
   "outputs": [
    {
     "data": {
      "text/html": [
       "<table class=\"simpletable\">\n",
       "<caption>ARMA Model Results</caption>\n",
       "<tr>\n",
       "  <th>Dep. Variable:</th>         <td>y</td>        <th>  No. Observations:  </th>    <td>30672</td>   \n",
       "</tr>\n",
       "<tr>\n",
       "  <th>Model:</th>            <td>ARMA(3, 2)</td>    <th>  Log Likelihood     </th> <td>-204425.846</td>\n",
       "</tr>\n",
       "<tr>\n",
       "  <th>Method:</th>             <td>css-mle</td>     <th>  S.D. of innovations</th>   <td>189.780</td>  \n",
       "</tr>\n",
       "<tr>\n",
       "  <th>Date:</th>          <td>Wed, 09 Jun 2021</td> <th>  AIC                </th> <td>408865.692</td> \n",
       "</tr>\n",
       "<tr>\n",
       "  <th>Time:</th>              <td>09:25:06</td>     <th>  BIC                </th> <td>408924.010</td> \n",
       "</tr>\n",
       "<tr>\n",
       "  <th>Sample:</th>                <td>0</td>        <th>  HQIC               </th> <td>408884.385</td> \n",
       "</tr>\n",
       "<tr>\n",
       "  <th></th>                       <td> </td>        <th>                     </th>      <td> </td>     \n",
       "</tr>\n",
       "</table>\n",
       "<table class=\"simpletable\">\n",
       "<tr>\n",
       "     <td></td>        <th>coef</th>     <th>std err</th>      <th>z</th>      <th>P>|z|</th>  <th>[0.025</th>    <th>0.975]</th>  \n",
       "</tr>\n",
       "<tr>\n",
       "  <th>const</th>   <td> 8116.9834</td> <td>  458.236</td> <td>   17.714</td> <td> 0.000</td> <td> 7218.857</td> <td> 9015.110</td>\n",
       "</tr>\n",
       "<tr>\n",
       "  <th>ar.L1.y</th> <td>    2.7356</td> <td>    0.000</td> <td> 2.16e+04</td> <td> 0.000</td> <td>    2.735</td> <td>    2.736</td>\n",
       "</tr>\n",
       "<tr>\n",
       "  <th>ar.L2.y</th> <td>   -2.5092</td> <td>    0.000</td> <td>-1.89e+04</td> <td> 0.000</td> <td>   -2.510</td> <td>   -2.509</td>\n",
       "</tr>\n",
       "<tr>\n",
       "  <th>ar.L3.y</th> <td>    0.7736</td> <td> 5.85e-05</td> <td> 1.32e+04</td> <td> 0.000</td> <td>    0.774</td> <td>    0.774</td>\n",
       "</tr>\n",
       "<tr>\n",
       "  <th>ma.L1.y</th> <td>   -1.2067</td> <td>    0.006</td> <td> -210.935</td> <td> 0.000</td> <td>   -1.218</td> <td>   -1.195</td>\n",
       "</tr>\n",
       "<tr>\n",
       "  <th>ma.L2.y</th> <td>    0.2177</td> <td>    0.006</td> <td>   37.886</td> <td> 0.000</td> <td>    0.206</td> <td>    0.229</td>\n",
       "</tr>\n",
       "</table>\n",
       "<table class=\"simpletable\">\n",
       "<caption>Roots</caption>\n",
       "<tr>\n",
       "    <td></td>   <th>            Real</th>  <th>         Imaginary</th> <th>         Modulus</th>  <th>        Frequency</th>\n",
       "</tr>\n",
       "<tr>\n",
       "  <th>AR.1</th> <td>           1.0007</td> <td>          -0.0000j</td> <td>           1.0007</td> <td>          -0.0000</td>\n",
       "</tr>\n",
       "<tr>\n",
       "  <th>AR.2</th> <td>           1.1214</td> <td>          -0.1849j</td> <td>           1.1366</td> <td>          -0.0260</td>\n",
       "</tr>\n",
       "<tr>\n",
       "  <th>AR.3</th> <td>           1.1214</td> <td>          +0.1849j</td> <td>           1.1366</td> <td>           0.0260</td>\n",
       "</tr>\n",
       "<tr>\n",
       "  <th>MA.1</th> <td>           1.0143</td> <td>          +0.0000j</td> <td>           1.0143</td> <td>           0.0000</td>\n",
       "</tr>\n",
       "<tr>\n",
       "  <th>MA.2</th> <td>           4.5288</td> <td>          +0.0000j</td> <td>           4.5288</td> <td>           0.0000</td>\n",
       "</tr>\n",
       "</table>"
      ],
      "text/plain": [
       "<class 'statsmodels.iolib.summary.Summary'>\n",
       "\"\"\"\n",
       "                              ARMA Model Results                              \n",
       "==============================================================================\n",
       "Dep. Variable:                      y   No. Observations:                30672\n",
       "Model:                     ARMA(3, 2)   Log Likelihood             -204425.846\n",
       "Method:                       css-mle   S.D. of innovations            189.780\n",
       "Date:                Wed, 09 Jun 2021   AIC                         408865.692\n",
       "Time:                        09:25:06   BIC                         408924.010\n",
       "Sample:                             0   HQIC                        408884.385\n",
       "                                                                              \n",
       "==============================================================================\n",
       "                 coef    std err          z      P>|z|      [0.025      0.975]\n",
       "------------------------------------------------------------------------------\n",
       "const       8116.9834    458.236     17.714      0.000    7218.857    9015.110\n",
       "ar.L1.y        2.7356      0.000   2.16e+04      0.000       2.735       2.736\n",
       "ar.L2.y       -2.5092      0.000  -1.89e+04      0.000      -2.510      -2.509\n",
       "ar.L3.y        0.7736   5.85e-05   1.32e+04      0.000       0.774       0.774\n",
       "ma.L1.y       -1.2067      0.006   -210.935      0.000      -1.218      -1.195\n",
       "ma.L2.y        0.2177      0.006     37.886      0.000       0.206       0.229\n",
       "                                    Roots                                    \n",
       "=============================================================================\n",
       "                  Real          Imaginary           Modulus         Frequency\n",
       "-----------------------------------------------------------------------------\n",
       "AR.1            1.0007           -0.0000j            1.0007           -0.0000\n",
       "AR.2            1.1214           -0.1849j            1.1366           -0.0260\n",
       "AR.3            1.1214           +0.1849j            1.1366            0.0260\n",
       "MA.1            1.0143           +0.0000j            1.0143            0.0000\n",
       "MA.2            4.5288           +0.0000j            4.5288            0.0000\n",
       "-----------------------------------------------------------------------------\n",
       "\"\"\""
      ]
     },
     "execution_count": 61,
     "metadata": {},
     "output_type": "execute_result"
    }
   ],
   "source": [
    "M[p,q].summary()"
   ]
  },
  {
   "cell_type": "code",
   "execution_count": 7,
   "metadata": {},
   "outputs": [],
   "source": [
    "S = pd.read_csv('C:\\\\Users\\\\steve\\\\Downloads\\\\loadForecastingDataset-eiST4\\\\dataset_centrale\\\\data\\\\test\\\\ILE DE FRANCE.csv')\n",
    "conso = np.array(S['Consommation'])\n",
    "arma=np.zeros(len(conso))\n",
    "eps=np.random.normal(size=len(conso))\n",
    "arma[:2]=conso[:2]\n",
    "arma[2]=-1.2067*eps[1]+0.2177*eps[0]\n",
    "for i in range(3,len(conso)):\n",
    "    arma[i]=2.7356*arma[i-1]-2.5092*arma[i-2]+0.7736*arma[i-3]-1.2067*eps[i-1]+0.2177*eps[i-2]\n",
    "    \n",
    "arma[2:]+=8116.9834"
   ]
  },
  {
   "cell_type": "code",
   "execution_count": 8,
   "metadata": {},
   "outputs": [
    {
     "data": {
      "image/png": "[encoded data removed]",
      "text/plain": [
       "<Figure size 432x288 with 1 Axes>"
      ]
     },
     "metadata": {
      "needs_background": "light"
     },
     "output_type": "display_data"
    }
   ],
   "source": [
    "plt.plot(conso,label='Reality')\n",
    "plt.plot(arma,label='ARMA')\n",
    "plt.title('Reality vs ARMA en Ile de France')\n",
    "plt.legend(loc='best')\n",
    "plt.show()"
   ]
  },
  {
   "cell_type": "code",
   "execution_count": 9,
   "metadata": {},
   "outputs": [
    {
     "data": {
      "text/plain": [
       "1857.3168946319377"
      ]
     },
     "execution_count": 9,
     "metadata": {},
     "output_type": "execute_result"
    }
   ],
   "source": [
    "mean_absolute_percentage_error(conso,arma)"
   ]
  },
  {
   "cell_type": "markdown",
   "metadata": {},
   "source": [
    "The model isn't consistent"
   ]
  },
  {
   "cell_type": "code",
   "execution_count": 63,
   "metadata": {},
   "outputs": [
    {
     "name": "stdout",
     "output_type": "stream",
     "text": [
      "\n",
      "le meilleure modèle est un arma\n",
      "4 4\n",
      "la p-value est\n",
      "[3.5499822e-128]\n"
     ]
    }
   ],
   "source": [
    "S = pd.read_csv('C:\\\\Users\\\\steve\\\\Downloads\\\\loadForecastingDataset-eiST4\\\\dataset_centrale\\\\data\\\\train\\\\BRETAGNE.csv')\n",
    "conso = np.array(S['Consommation'])\n",
    "models=duple(5)\n",
    "M = {}\n",
    "for p,q in models:\n",
    "    try:\n",
    "    #fit an arma (for now without trend)\n",
    "        ft =  ARMA(conso,order=(p,q)).fit()\n",
    "        M[p,q] = ft\n",
    "    except ValueError:\n",
    "        print()\n",
    "AIC = pd.DataFrame( [(m,ft.aic) for m,ft in M.items()],columns=['model','AIC'] ) \n",
    "AIC = AIC.assign(dAIC=(AIC.AIC-AIC.AIC.min()))\n",
    "k = np.argmin(AIC['dAIC'])\n",
    "p,q = AIC.model[k]\n",
    "print('le meilleure modèle est un arma' )\n",
    "print(p,q)\n",
    "r = M[p,q].resid\n",
    "print('la p-value est')\n",
    "print(acorr_ljungbox(r,lags=[p+q+1])[1])"
   ]
  },
  {
   "cell_type": "code",
   "execution_count": 64,
   "metadata": {},
   "outputs": [
    {
     "data": {
      "text/html": [
       "<table class=\"simpletable\">\n",
       "<caption>ARMA Model Results</caption>\n",
       "<tr>\n",
       "  <th>Dep. Variable:</th>         <td>y</td>        <th>  No. Observations:  </th>    <td>30672</td>   \n",
       "</tr>\n",
       "<tr>\n",
       "  <th>Model:</th>            <td>ARMA(4, 4)</td>    <th>  Log Likelihood     </th> <td>-184496.000</td>\n",
       "</tr>\n",
       "<tr>\n",
       "  <th>Method:</th>             <td>css-mle</td>     <th>  S.D. of innovations</th>   <td>99.096</td>   \n",
       "</tr>\n",
       "<tr>\n",
       "  <th>Date:</th>          <td>Wed, 09 Jun 2021</td> <th>  AIC                </th> <td>369012.001</td> \n",
       "</tr>\n",
       "<tr>\n",
       "  <th>Time:</th>              <td>09:39:00</td>     <th>  BIC                </th> <td>369095.312</td> \n",
       "</tr>\n",
       "<tr>\n",
       "  <th>Sample:</th>                <td>0</td>        <th>  HQIC               </th> <td>369038.704</td> \n",
       "</tr>\n",
       "<tr>\n",
       "  <th></th>                       <td> </td>        <th>                     </th>      <td> </td>     \n",
       "</tr>\n",
       "</table>\n",
       "<table class=\"simpletable\">\n",
       "<tr>\n",
       "     <td></td>        <th>coef</th>     <th>std err</th>      <th>z</th>      <th>P>|z|</th>  <th>[0.025</th>    <th>0.975]</th>  \n",
       "</tr>\n",
       "<tr>\n",
       "  <th>const</th>   <td> 2512.7502</td> <td>   33.795</td> <td>   74.353</td> <td> 0.000</td> <td> 2446.514</td> <td> 2578.987</td>\n",
       "</tr>\n",
       "<tr>\n",
       "  <th>ar.L1.y</th> <td>    1.0023</td> <td>    0.009</td> <td>  110.405</td> <td> 0.000</td> <td>    0.985</td> <td>    1.020</td>\n",
       "</tr>\n",
       "<tr>\n",
       "  <th>ar.L2.y</th> <td>   -0.1721</td> <td>    0.015</td> <td>  -11.311</td> <td> 0.000</td> <td>   -0.202</td> <td>   -0.142</td>\n",
       "</tr>\n",
       "<tr>\n",
       "  <th>ar.L3.y</th> <td>   -0.4230</td> <td>    0.014</td> <td>  -29.509</td> <td> 0.000</td> <td>   -0.451</td> <td>   -0.395</td>\n",
       "</tr>\n",
       "<tr>\n",
       "  <th>ar.L4.y</th> <td>    0.5492</td> <td>    0.008</td> <td>   71.455</td> <td> 0.000</td> <td>    0.534</td> <td>    0.564</td>\n",
       "</tr>\n",
       "<tr>\n",
       "  <th>ma.L1.y</th> <td>    0.1321</td> <td>    0.009</td> <td>   14.057</td> <td> 0.000</td> <td>    0.114</td> <td>    0.151</td>\n",
       "</tr>\n",
       "<tr>\n",
       "  <th>ma.L2.y</th> <td>    0.4426</td> <td>    0.008</td> <td>   57.298</td> <td> 0.000</td> <td>    0.427</td> <td>    0.458</td>\n",
       "</tr>\n",
       "<tr>\n",
       "  <th>ma.L3.y</th> <td>    0.6436</td> <td>    0.008</td> <td>   83.170</td> <td> 0.000</td> <td>    0.628</td> <td>    0.659</td>\n",
       "</tr>\n",
       "<tr>\n",
       "  <th>ma.L4.y</th> <td>    0.3894</td> <td>    0.006</td> <td>   62.431</td> <td> 0.000</td> <td>    0.377</td> <td>    0.402</td>\n",
       "</tr>\n",
       "</table>\n",
       "<table class=\"simpletable\">\n",
       "<caption>Roots</caption>\n",
       "<tr>\n",
       "    <td></td>   <th>            Real</th>  <th>         Imaginary</th> <th>         Modulus</th>  <th>        Frequency</th>\n",
       "</tr>\n",
       "<tr>\n",
       "  <th>AR.1</th> <td>          -1.3170</td> <td>          -0.0000j</td> <td>           1.3170</td> <td>          -0.5000</td>\n",
       "</tr>\n",
       "<tr>\n",
       "  <th>AR.2</th> <td>           1.0266</td> <td>          -0.0000j</td> <td>           1.0266</td> <td>          -0.0000</td>\n",
       "</tr>\n",
       "<tr>\n",
       "  <th>AR.3</th> <td>           0.5303</td> <td>          -1.0322j</td> <td>           1.1605</td> <td>          -0.1745</td>\n",
       "</tr>\n",
       "<tr>\n",
       "  <th>AR.4</th> <td>           0.5303</td> <td>          +1.0322j</td> <td>           1.1605</td> <td>           0.1745</td>\n",
       "</tr>\n",
       "<tr>\n",
       "  <th>MA.1</th> <td>           0.4631</td> <td>          -0.9022j</td> <td>           1.0141</td> <td>          -0.1745</td>\n",
       "</tr>\n",
       "<tr>\n",
       "  <th>MA.2</th> <td>           0.4631</td> <td>          +0.9022j</td> <td>           1.0141</td> <td>           0.1745</td>\n",
       "</tr>\n",
       "<tr>\n",
       "  <th>MA.3</th> <td>          -1.2895</td> <td>          -0.9134j</td> <td>           1.5802</td> <td>          -0.4019</td>\n",
       "</tr>\n",
       "<tr>\n",
       "  <th>MA.4</th> <td>          -1.2895</td> <td>          +0.9134j</td> <td>           1.5802</td> <td>           0.4019</td>\n",
       "</tr>\n",
       "</table>"
      ],
      "text/plain": [
       "<class 'statsmodels.iolib.summary.Summary'>\n",
       "\"\"\"\n",
       "                              ARMA Model Results                              \n",
       "==============================================================================\n",
       "Dep. Variable:                      y   No. Observations:                30672\n",
       "Model:                     ARMA(4, 4)   Log Likelihood             -184496.000\n",
       "Method:                       css-mle   S.D. of innovations             99.096\n",
       "Date:                Wed, 09 Jun 2021   AIC                         369012.001\n",
       "Time:                        09:39:00   BIC                         369095.312\n",
       "Sample:                             0   HQIC                        369038.704\n",
       "                                                                              \n",
       "==============================================================================\n",
       "                 coef    std err          z      P>|z|      [0.025      0.975]\n",
       "------------------------------------------------------------------------------\n",
       "const       2512.7502     33.795     74.353      0.000    2446.514    2578.987\n",
       "ar.L1.y        1.0023      0.009    110.405      0.000       0.985       1.020\n",
       "ar.L2.y       -0.1721      0.015    -11.311      0.000      -0.202      -0.142\n",
       "ar.L3.y       -0.4230      0.014    -29.509      0.000      -0.451      -0.395\n",
       "ar.L4.y        0.5492      0.008     71.455      0.000       0.534       0.564\n",
       "ma.L1.y        0.1321      0.009     14.057      0.000       0.114       0.151\n",
       "ma.L2.y        0.4426      0.008     57.298      0.000       0.427       0.458\n",
       "ma.L3.y        0.6436      0.008     83.170      0.000       0.628       0.659\n",
       "ma.L4.y        0.3894      0.006     62.431      0.000       0.377       0.402\n",
       "                                    Roots                                    \n",
       "=============================================================================\n",
       "                  Real          Imaginary           Modulus         Frequency\n",
       "-----------------------------------------------------------------------------\n",
       "AR.1           -1.3170           -0.0000j            1.3170           -0.5000\n",
       "AR.2            1.0266           -0.0000j            1.0266           -0.0000\n",
       "AR.3            0.5303           -1.0322j            1.1605           -0.1745\n",
       "AR.4            0.5303           +1.0322j            1.1605            0.1745\n",
       "MA.1            0.4631           -0.9022j            1.0141           -0.1745\n",
       "MA.2            0.4631           +0.9022j            1.0141            0.1745\n",
       "MA.3           -1.2895           -0.9134j            1.5802           -0.4019\n",
       "MA.4           -1.2895           +0.9134j            1.5802            0.4019\n",
       "-----------------------------------------------------------------------------\n",
       "\"\"\""
      ]
     },
     "execution_count": 64,
     "metadata": {},
     "output_type": "execute_result"
    }
   ],
   "source": [
    "M[p,q].summary()"
   ]
  },
  {
   "cell_type": "code",
   "execution_count": 10,
   "metadata": {},
   "outputs": [],
   "source": [
    "S = pd.read_csv('C:\\\\Users\\\\steve\\\\Downloads\\\\loadForecastingDataset-eiST4\\\\dataset_centrale\\\\data\\\\test\\\\BRETAGNE.csv')\n",
    "conso = np.array(S['Consommation'])\n",
    "arma=np.zeros(len(conso))\n",
    "arma[:4]=conso[:4]\n",
    "esp=np.random.normal(size=len(conso))\n",
    "for i in range(4,len(conso)):\n",
    "    arma[i]=(1.0023*arma[i-1]-0.1721*arma[i-2]-0.4230*arma[i-3]+0.5492*arma[i-4]+0.1321*esp[i-1]+0.4426*esp[i-2]+0.6436*esp[i-3]+0.3894*esp[i-4])\n",
    "\n",
    "arma[4:]+=2512.7502"
   ]
  },
  {
   "cell_type": "code",
   "execution_count": 11,
   "metadata": {},
   "outputs": [
    {
     "data": {
      "image/png": "[encoded data removed]",
      "text/plain": [
       "<Figure size 432x288 with 1 Axes>"
      ]
     },
     "metadata": {
      "needs_background": "light"
     },
     "output_type": "display_data"
    }
   ],
   "source": [
    "plt.plot(conso,label='Reality')\n",
    "plt.plot(arma,label='ARMA')\n",
    "plt.title('Reality vs ARMA en Bretagne')\n",
    "plt.legend(loc='best')\n",
    "plt.show()"
   ]
  },
  {
   "cell_type": "code",
   "execution_count": 12,
   "metadata": {},
   "outputs": [
    {
     "data": {
      "text/plain": [
       "19.63497287634161"
      ]
     },
     "execution_count": 12,
     "metadata": {},
     "output_type": "execute_result"
    }
   ],
   "source": [
    "mean_absolute_percentage_error(conso,arma)"
   ]
  },
  {
   "cell_type": "markdown",
   "metadata": {},
   "source": [
    "The model isn't consistent"
   ]
  },
  {
   "cell_type": "code",
   "execution_count": null,
   "metadata": {},
   "outputs": [],
   "source": []
  }
 ],
 "metadata": {
  "kernelspec": {
   "display_name": "Python 3",
   "language": "python",
   "name": "python3"
  },
  "language_info": {
   "codemirror_mode": {
    "name": "ipython",
    "version": 3
   },
   "file_extension": ".py",
   "mimetype": "text/x-python",
   "name": "python",
   "nbconvert_exporter": "python",
   "pygments_lexer": "ipython3",
   "version": "3.7.3"
  }
 },
 "nbformat": 4,
 "nbformat_minor": 2
}
